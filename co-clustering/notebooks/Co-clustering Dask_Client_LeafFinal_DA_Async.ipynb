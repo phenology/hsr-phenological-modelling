{
 "cells": [
  {
   "cell_type": "markdown",
   "metadata": {},
   "source": [
    "# Co-clustering with Dask Async"
   ]
  },
  {
   "cell_type": "markdown",
   "metadata": {},
   "source": [
    "## Dask"
   ]
  },
  {
   "cell_type": "code",
   "execution_count": 1,
   "metadata": {},
   "outputs": [
    {
     "data": {
      "text/plain": [
       "<dask.config.set at 0x7f1fb863c9e8>"
      ]
     },
     "execution_count": 1,
     "metadata": {},
     "output_type": "execute_result"
    }
   ],
   "source": [
    "import dask\n",
    "dask.config.set(scheduler='distributed') "
   ]
  },
  {
   "cell_type": "code",
   "execution_count": 2,
   "metadata": {},
   "outputs": [],
   "source": [
    "from dask.distributed import Client"
   ]
  },
  {
   "cell_type": "code",
   "execution_count": 3,
   "metadata": {},
   "outputs": [],
   "source": [
    "client = Client(\"parrot0.phenovari-utwente.surf-hosted.nl:9091\", threads_per_worker=2, n_workers=10, asynchronous=True, processes=True)"
   ]
  },
  {
   "cell_type": "code",
   "execution_count": 4,
   "metadata": {},
   "outputs": [
    {
     "data": {
      "text/html": [
       "<h3>Client</h3>\n",
       "<ul>\n",
       "  <li><b>Scheduler: </b>tcp://parrot0.phenovari-utwente.surf-hosted.nl:9091\n",
       "</ul>\n"
      ],
      "text/plain": [
       "<Client: scheduler='tcp://145.100.59.141:9091' processes=4 cores=64>"
      ]
     },
     "execution_count": 4,
     "metadata": {},
     "output_type": "execute_result"
    }
   ],
   "source": [
    "client"
   ]
  },
  {
   "cell_type": "markdown",
   "metadata": {},
   "source": [
    "## Co-Clustering"
   ]
  },
  {
   "cell_type": "code",
   "execution_count": 5,
   "metadata": {},
   "outputs": [],
   "source": [
    "import numpy as np\n",
    "import dask.array as da\n",
    "import xarray as xr\n",
    "import time"
   ]
  },
  {
   "cell_type": "code",
   "execution_count": 6,
   "metadata": {},
   "outputs": [],
   "source": [
    "def idivdist2_da(Z, X, Y, options):\n",
    "    if len(options) > 0:\n",
    "        epsilon = options[0]\n",
    "    else:\n",
    "        epsilon = 10 ** (-8)\n",
    "    Y = Y + epsilon\n",
    "    d = da.dot(X, Y.T) - da.dot(Z, da.log(Y.T))\n",
    "    return d"
   ]
  },
  {
   "cell_type": "code",
   "execution_count": 7,
   "metadata": {},
   "outputs": [],
   "source": [
    "def co_group_avg(Z, R,C):\n",
    "    '''\n",
    "    This function creates a grouped pixel average array (G) from the original data (Z) based on the CoClustering results (R and C matrix).\n",
    "    \n",
    "    this is important to plot the new generated data. \n",
    "    \n",
    "    Assuming:\n",
    "    columns (C) - temporal data\n",
    "    rows (R) - spatial data\n",
    "    \n",
    "    G=[[column_group1:[rowGroup1,rowGroup2...]],[column_Group2:[rowGroup1,rowGroup2...]],...]\n",
    "    G=[temporalGroup1:[pixelAvg1],temporalGroup2:[pixelAvg2]]\n",
    "    '''\n",
    "\n",
    "#     vv=np.dot(np.dot(R.T,Z),C)/np.dot(np.dot(R.T, np.ones((Z.shape[0], Z.shape[1]))), C)\n",
    "#     print(vv)\n",
    "#     \n",
    "#     The folowing creates a matrix with the original size of Z with the averaged values per group\n",
    "#     vvv=np.dot(np.dot(R,np.dot(np.dot(R.T,Z),C)/np.dot(np.dot(R.T, np.ones((Z.shape[0], Z.shape[1]))), C)),C.T)\n",
    "#     print (vvv)\n",
    "    \n",
    "    #G=np.transpose(np.dot(R,np.dot(np.dot(R.T,Z),C)/np.dot(np.dot(R.T, np.ones((Z.shape[0], Z.shape[1]))), C)))\n",
    "    a = np.dot(np.dot(R.T,Z),C)\n",
    "    b = np.dot(np.dot(R.T, np.ones((Z.shape[0], Z.shape[1]))), C)\n",
    "    G = np.transpose(np.dot(R,a/(b+np.finfo(np.float64).eps)))\n",
    "    return G"
   ]
  },
  {
   "cell_type": "markdown",
   "metadata": {},
   "source": [
    "## coclust_idiv\n",
    "\n",
    "```\n",
    "# function [val,R,C] = coclust_idiv(Z,k,l,z,scheme, options)\n",
    "# %\n",
    "# %\tDescription\n",
    "# %\t[R,C] = COCLUST_IDIV(Z,K,L,OPTIONS)\n",
    "# %       Inputs:\n",
    "# %       Z - m x n data matrix,\n",
    "# %       k - num row clusters,\n",
    "# %       l - num col clusters,\n",
    "# %       scheme - co-clustering scheme (1-6)\n",
    "# %       OPTIONS(1) - precision of obj fun for convergence; default 1e-3.\n",
    "# %       OPTIONS(2) - max iterations; default 20\n",
    "# %       OPTIONS(3) - max runs; default 5\n",
    "# %       OPTIONS(4) - precision of matrix elements: default 10^(-8)\n",
    "# %\n",
    "# %       Outputs:\n",
    "# %       R - final row clustering ,\n",
    "# %       C - final column clustering.\n",
    "# %\n",
    "# %------------------------------------------------------------------------------\n",
    "```"
   ]
  },
  {
   "cell_type": "code",
   "execution_count": 8,
   "metadata": {},
   "outputs": [],
   "source": [
    "def coclust_idiv_Client_da_While(Y_da, Y_da_T, Gavg_da, Em_da, En_da, m_n_ones_da, idk_da, idl_da, kwargs):\n",
    "    from dask.distributed import get_client\n",
    "    my_client = get_client(\"parrot0.phenovari-utwente.surf-hosted.nl:9091\")\n",
    "    \n",
    "    epsilon = kwargs[0]\n",
    "    errobj = kwargs[1]\n",
    "    niters = kwargs[2]\n",
    "    m = kwargs[3]\n",
    "    n = kwargs[4]\n",
    "    k = kwargs[5]\n",
    "    l = kwargs[6]\n",
    "\n",
    "    #PR\n",
    "    pr_np_1 = np.zeros(m)\n",
    "    for g in range(0, k):\n",
    "        ind = range(int((g - 1) * da.floor(m / k)), int(g * da.floor(m / k)))\n",
    "        pr_np_1[ind] = g\n",
    "    pr_np_1[int(k * da.floor(m / k)):m] = k - 1\n",
    "    #pr_da_1 = da.from_array(pr_np_1, chunks=np.floor(m/4))\n",
    "    pr_da_1 = da.from_array(pr_np_1, chunks=100000)\n",
    "\n",
    "    rd_pc_np = np.random.permutation(m)\n",
    "    #rd_pc_da = da.from_array(rd_pc_np, chunks=np.floor(m/4))\n",
    "    rd_pc_da = da.from_array(rd_pc_np, chunks=100000)\n",
    "\n",
    "    data_pr = [ rd_pc_da, pr_da_1]\n",
    "    pr_da = da.stack(data_pr, axis=1)\n",
    "    pr_da = pr_da.astype(np.int64)\n",
    "    print(\"PR_DA done!!!\")\n",
    "\n",
    "    #R\n",
    "    ##data_R = idk_da[pr_da[0:m,1].compute(), :]\n",
    "    data_R = idk_da[pr_da[:,1],:]\n",
    "    R_da = data_R\n",
    "    #data_R = [ idk_da[int(pr_da[t,1]), :] for t in range(m)]\n",
    "    #R_da = da.stack(data_R)\n",
    "\n",
    "    R_da = R_da.persist()\n",
    "    R_da_T = R_da.T.persist()\n",
    "    #R = client.persist(R_da)\n",
    "    print(\"R_DA done!!!\")\n",
    "\n",
    "    #PC\n",
    "    pc_np_1 = np.zeros(n)\n",
    "    for h in range(0, l):\n",
    "        ind = range(int((h - 1) * np.floor(n / l) + 1), int(h * np.floor(n / l)))\n",
    "        pc_np_1[ind] = h\n",
    "    pc_np_1[int(l * da.floor(n / l)):n] = l - 1\n",
    "    #pc_da_1 = da.from_array(pc_np_1, chunks=np.floor(n/4))\n",
    "    pc_da_1 = da.from_array(pc_np_1, chunks=n)\n",
    "\n",
    "    rd_pc_np = np.random.permutation(n)\n",
    "    #rd_pc_da = da.from_array(rd_pc_np, chunks=np.floor(n/4))\n",
    "    rd_pc_da = da.from_array(rd_pc_np, chunks=n)\n",
    "\n",
    "    data_pc = [ rd_pc_da, pc_da_1]\n",
    "    pc_da = da.stack(data_pc, axis=1)\n",
    "    pc_da = pc_da.astype(np.int64)\n",
    "    print(\"PC_DA done!!!\")\n",
    "\n",
    "    #C\n",
    "    ##data_C = idl_da[pc_da[0:n,1].compute(), :]\n",
    "    data_C = idl_da[pc_da[:,1],:]\n",
    "    C_da = data_C\n",
    "    C_da = C_da.persist()\n",
    "\n",
    "    #C = client.persist(C_da)\n",
    "    print(\"C_DA done!!!\")\n",
    "\n",
    "    e = 2 * errobj\n",
    "    old_e = 0\n",
    "    s = 1\n",
    "\n",
    "    #print(\"---D: %s seconds ---\" % (time.time() - start_time))\n",
    "    while (abs(e - old_e) > errobj) & (s <= niters):\n",
    "        print(\"iteration number: \" + str(s))\n",
    "        start_time = time.time()\n",
    "\n",
    "        CoCavg_da = (da.dot(da.dot(R_da_T, Y_da), C_da) + Gavg_da*epsilon) / (da.dot(da.dot(R_da_T, m_n_ones_da), C_da) + epsilon)\n",
    "        #CoCavg_da = CoCavg_da.persist()\n",
    "\n",
    "        ###RCavg_da = (da.dot(da.dot(R_da.T, Y_da), En_da) + Gavg_da*epsilon) / (da.dot(da.dot(R_da.T, m_n_ones_da), En_da) + epsilon)\n",
    "\n",
    "        ###CCavg_da = (da.dot(da.dot(Em_da.T, Y_da), C_da) + Gavg_da*epsilon) / (da.dot(da.dot(Em_da.T, m_n_ones_da), C_da) + epsilon)\n",
    "\n",
    "        ###RC_Cavg_da = (da.dot(R_da.T, Y_da) + Gavg_da*epsilon) / (da.dot(R_da.T, m_n_ones_da) + epsilon)\n",
    "\n",
    "        ###CC_Ravg_da = (da.dot(Y_da, C_da) + Gavg_da*epsilon) / (da.dot(m_n_ones_da, C_da) + epsilon)\n",
    "\n",
    "        Zrowc_da = m_n_ones_da\n",
    "\n",
    "        Zrowv_da = da.dot(CoCavg_da, C_da.T)\n",
    "\n",
    "        d2_da = idivdist2_da(Y_da, Zrowc_da, Zrowv_da, [])\n",
    "        d2_da = d2_da.persist()\n",
    "\n",
    "        index = da.argmin(d2_da, axis=1)\n",
    "        R_da = idk_da[index, :]\n",
    "        R_da = R_da.persist()\n",
    "        R_da_T = R_da.T.persist()\n",
    "\n",
    "        #start_time = time.time()\n",
    "        Zcolc_da = m_n_ones_da\n",
    "\n",
    "        Zcolv_da = da.dot(R_da, CoCavg_da)\n",
    "\n",
    "        d2_da = idivdist2_da(Y_da_T, Zcolc_da.T, Zcolv_da.T, [])\n",
    "        d2_da = d2_da.persist()\n",
    "\n",
    "        minvals_da = da.min(d2_da, axis=1)\n",
    "        ##minvals_da = minvals_da.persist()\n",
    "\n",
    "        index = da.argmin(d2_da, axis=1)\n",
    "        C_da = idl_da[index, :]\n",
    "        C_da = C_da.persist()\n",
    "\n",
    "        old_e = e\n",
    "        e = da.sum(da.power(minvals_da, 1)).compute() # power 1 divergence, power 2 euclidean\n",
    "\n",
    "        s = s + 1\n",
    "        print(\"---8: %s seconds ---\" % (time.time() - start_time))\n",
    "        #print(\"e: \" + str(e))\n",
    "        #print(\"old_e: \" + str(old_e))\n",
    "\n",
    "    print(\"Compute e!!!\")\n",
    "    e = e\n",
    "    print(\"R_da persist!!!\")\n",
    "    R = R_da.persist()\n",
    "    print(\"C_da persist!!!\")\n",
    "    C = C_da.persist()\n",
    "\n",
    "    return (e, R, C)"
   ]
  },
  {
   "cell_type": "code",
   "execution_count": 9,
   "metadata": {},
   "outputs": [],
   "source": [
    "async def coclust_idiv_Client_da_For(Z, k, l, scheme, options):\n",
    "    # % Sort out the options\n",
    "    # noptions =size(options,1);\n",
    "\n",
    "    noptions = len(options)\n",
    "    \n",
    "    print(\"noptions = \" + str(noptions))\n",
    "\n",
    "    if noptions < 1:\n",
    "        errobj = 0.00001\n",
    "    else:\n",
    "        errobj = options[0]\n",
    "\n",
    "    if noptions < 2:\n",
    "        niters = 100\n",
    "    else:\n",
    "        niters = options[1]\n",
    "\n",
    "    if noptions < 3:\n",
    "        nruns = 1\n",
    "    else:\n",
    "        nruns = options[2]\n",
    "\n",
    "    if noptions < 4:\n",
    "        epsilon = 10 ** (-8)\n",
    "    else:\n",
    "        epsilon = options[3]\n",
    "\n",
    "    # % get data matrix size and fixed averages(upload rows)\n",
    "    [m, n] = Z.shape\n",
    "    Y_da = Z.persist()\n",
    "    Y_da_T = Y_da.T.persist()\n",
    "    \n",
    "    Em_da = da.ones((m, 1)) #OK\n",
    "    Em_da = Em_da.persist()\n",
    "    \n",
    "    En_da = da.ones((n, 1)) #OK\n",
    "    En_da = En_da.persist()\n",
    "    \n",
    "    m_n_ones_da = da.ones((m,n))\n",
    "    print(\"m_n_ones_da persist!!!\")\n",
    "    m_n_ones_da = m_n_ones_da.persist()\n",
    "        \n",
    "    Gavg_da = (da.dot(da.dot(Em_da.T, Y_da), En_da)) / (da.dot(da.dot(Em_da.T, m_n_ones_da), En_da)) #OK\n",
    "    #Gavg = client.submit(funcGavg, Em.result(), Y.result(), En.result())\n",
    "    print(\"Gavg_da persist!!!\")\n",
    "    Gavg_da = Gavg_da.persist()\n",
    "    \n",
    "    #Ravg = (np.dot(Y, En)+Gavg*epsilon) / (np.dot(np.ones((m, n)), En)+epsilon) #OK\n",
    "    #Cavg = (np.dot(Em.T, Y)+Gavg*epsilon) / (np.dot(Em.T, np.ones((m, n)))+epsilon) #OK\n",
    "    \n",
    "    idk_da = da.eye(N=k, chunks=k, k=0)\n",
    "    print(\"idk_da persist!!!\")\n",
    "    idk_da = idk_da.persist()\n",
    "\n",
    "    idl_da = da.eye(N=l, chunks=l, k=0)\n",
    "    print(\"idl_da persist!!!\")\n",
    "    idl_da = idl_da.persist()\n",
    "    \n",
    "    # % ------------------------------------------------------------------------------\n",
    "    # % Loop over the runs\n",
    "    Rfinalobj = {} #np.zeros((nruns, 1)) #Precision issue\n",
    "    RR = {}\n",
    "    RC = {}\n",
    "    future_res = {}\n",
    "    \n",
    "    print(\"num of runs: \" + str(nruns))\n",
    "    for r in range(nruns):\n",
    "        print(\"Number of run scheduled: \" + str(r))\n",
    "        future_res[r] = client.submit(coclust_idiv_Client_da_While, Y_da, Y_da_T, Gavg_da, Em_da, En_da, m_n_ones_da, idk_da, idl_da, kwargs=[epsilon, errobj, niters, m, n, k, l]) \n",
    "    \n",
    "    for r in range(nruns):\n",
    "        print(\"Number of runs gathered: \" + str(r))\n",
    "        start_time_for = time.time()\n",
    "        #res = await client.gather(future_res[r])\n",
    "        res = await future_res[r].result()\n",
    "        Rfinalobj[r] = res[0]\n",
    "        RR[r] = res[1]\n",
    "        RC[r] = res[2]\n",
    "        print(\"---: Run done in %s seconds ---\" % (time.time() - start_time_for))\n",
    "        \n",
    "    val = np.min(Rfinalobj)\n",
    "    ind = np.argmin(Rfinalobj)\n",
    "    print(\"get R1\")\n",
    "    R1 = RR[ind]\n",
    "    print(\"get C1\")\n",
    "    C1 = RC[ind]\n",
    "    return R1, C1, val"
   ]
  },
  {
   "cell_type": "markdown",
   "metadata": {},
   "source": [
    "## Toy examples"
   ]
  },
  {
   "cell_type": "code",
   "execution_count": 10,
   "metadata": {},
   "outputs": [
    {
     "name": "stdout",
     "output_type": "stream",
     "text": [
      "noptions = 4\n",
      "m_n_ones_da persist!!!\n",
      "Gavg_da persist!!!\n",
      "idk_da persist!!!\n",
      "idl_da persist!!!\n",
      "num of runs: 15\n",
      "Number of run scheduled: 0\n",
      "Number of run scheduled: 1\n",
      "Number of run scheduled: 2\n",
      "Number of run scheduled: 3\n",
      "Number of run scheduled: 4\n",
      "Number of run scheduled: 5\n",
      "Number of run scheduled: 6\n",
      "Number of run scheduled: 7\n",
      "Number of run scheduled: 8\n",
      "Number of run scheduled: 9\n",
      "Number of run scheduled: 10\n",
      "Number of run scheduled: 11\n",
      "Number of run scheduled: 12\n",
      "Number of run scheduled: 13\n",
      "Number of run scheduled: 14\n",
      "Number of runs gathered: 0\n",
      "---: Run done in 1.2780065536499023 seconds ---\n",
      "Number of runs gathered: 1\n",
      "---: Run done in 0.00519871711730957 seconds ---\n",
      "Number of runs gathered: 2\n",
      "---: Run done in 0.004244089126586914 seconds ---\n",
      "Number of runs gathered: 3\n",
      "---: Run done in 0.006106376647949219 seconds ---\n",
      "Number of runs gathered: 4\n",
      "---: Run done in 0.0041921138763427734 seconds ---\n",
      "Number of runs gathered: 5\n",
      "---: Run done in 0.0051059722900390625 seconds ---\n",
      "Number of runs gathered: 6\n",
      "---: Run done in 0.003910064697265625 seconds ---\n",
      "Number of runs gathered: 7\n",
      "---: Run done in 0.005145549774169922 seconds ---\n",
      "Number of runs gathered: 8\n",
      "---: Run done in 0.004261493682861328 seconds ---\n",
      "Number of runs gathered: 9\n",
      "---: Run done in 0.007892370223999023 seconds ---\n",
      "Number of runs gathered: 10\n",
      "---: Run done in 0.003998994827270508 seconds ---\n",
      "Number of runs gathered: 11\n",
      "---: Run done in 0.0058057308197021484 seconds ---\n",
      "Number of runs gathered: 12\n",
      "---: Run done in 0.0042150020599365234 seconds ---\n",
      "Number of runs gathered: 13\n",
      "---: Run done in 0.005881547927856445 seconds ---\n",
      "Number of runs gathered: 14\n",
      "---: Run done in 0.004286766052246094 seconds ---\n",
      "get R1\n",
      "get C1\n"
     ]
    }
   ],
   "source": [
    "scheme = 2\n",
    "k=2\n",
    "l=3\n",
    "options = [0.00001, 100, 15, 10 ** (-8)]\n",
    "Z = np.array([[ 24.,  44.,   5.,   6.,  26., 100.,  20.,  95.],\n",
    "       [38.,  14.,  10.,  36.,  56.,  75.,   0.,  26.],\n",
    "       [0.,  54.,  59.,  45.,  87.,  65.,  28.,  36.],\n",
    "       [34.,  45.,  95.,  54.,  78.,  56.,  82.,  63.],\n",
    "       [4.,  63.,  82.,  56.,  36.,  96.,  45.,  34.],\n",
    "       [24.,  25.,   9.,   2.,  28.,  57.,  76.,  23.]])\n",
    "\n",
    "Z_da = da.from_array(Z, chunks=(2,4))\n",
    "#Z_Dask.persist()\n",
    "#Z_Dask = client.scatter(Z)\n",
    "\n",
    "###[R, C, val] = coclust_idiv_Client_da(Z_da, k, l, scheme, options)\n",
    "res = await coclust_idiv_Client_da_For(Z_da, k, l, scheme, options)\n",
    "R = res[0]\n",
    "C = res[1]\n",
    "val = res[2]"
   ]
  },
  {
   "cell_type": "code",
   "execution_count": 11,
   "metadata": {},
   "outputs": [
    {
     "name": "stdout",
     "output_type": "stream",
     "text": [
      "CoClustering results:\n",
      "Val:  {0: -6054.97143031733, 1: -6054.97143031733, 2: -6054.97143031733, 3: -6054.97143031733, 4: -6054.97143031733, 5: -6054.97143031733, 6: -6054.97143031733, 7: -6054.97143031733, 8: -6054.97143031733, 9: -6054.97143031733, 10: -6054.97143031733, 11: -6054.97143031733, 12: -6054.97143031733, 13: -6054.97143031733, 14: -6054.97143031733}\n",
      "Row matrix:  [[0. 1.]\n",
      " [0. 1.]\n",
      " [0. 1.]\n",
      " [1. 0.]\n",
      " [1. 0.]\n",
      " [0. 1.]]\n",
      "Column matrix:  [[0. 0. 1.]\n",
      " [0. 0. 1.]\n",
      " [0. 0. 1.]\n",
      " [0. 0. 1.]\n",
      " [0. 1. 0.]\n",
      " [1. 0. 0.]\n",
      " [0. 0. 1.]\n",
      " [0. 1. 0.]]\n"
     ]
    }
   ],
   "source": [
    "print('CoClustering results:')\n",
    "print('Val: ', val)\n",
    "print('Row matrix: ', R.compute())\n",
    "print('Column matrix: ', C.compute())"
   ]
  },
  {
   "cell_type": "markdown",
   "metadata": {},
   "source": [
    "## Real Examples:"
   ]
  },
  {
   "cell_type": "code",
   "execution_count": 12,
   "metadata": {},
   "outputs": [],
   "source": [
    "from osgeo import gdal\n",
    "import matplotlib.pyplot as plt"
   ]
  },
  {
   "cell_type": "code",
   "execution_count": 13,
   "metadata": {},
   "outputs": [],
   "source": [
    "start_year = 1980\n",
    "end_year = 2017\n",
    "\n",
    "k=70\n",
    "l = 5\n",
    "scheme = 2\n",
    "runs = 15\n",
    "iterations = 100\n",
    "options = [0.00001, iterations, runs, 10 ** (-8)]"
   ]
  },
  {
   "cell_type": "markdown",
   "metadata": {},
   "source": [
    "# LeafFinal"
   ]
  },
  {
   "cell_type": "markdown",
   "metadata": {},
   "source": [
    "#### Load the first temporal image:"
   ]
  },
  {
   "cell_type": "code",
   "execution_count": 14,
   "metadata": {},
   "outputs": [],
   "source": [
    "dataset_name = \"LeafFinal_one_band\"\n",
    "tifsrc = gdal.Open('/data/local/files/spring-index/' + dataset_name + '/' + str(start_year) + '.tif')\n",
    "in_band = tifsrc.GetRasterBand(1)\n",
    "xSize = in_band.XSize\n",
    "ySize = in_band.YSize\n",
    "data = tifsrc.ReadAsArray(0,0,xSize,ySize)\n",
    "data = data.reshape(-1,1)\n",
    "nans = np.where(np.isnan(data)== False)[0]"
   ]
  },
  {
   "cell_type": "code",
   "execution_count": 15,
   "metadata": {},
   "outputs": [],
   "source": [
    "usa_mask_fp = gdal.Open('/data/local/files/usa_mask.tif')\n",
    "usa_mask_band = usa_mask_fp.GetRasterBand(1)\n",
    "usa_mask = usa_mask_band.ReadAsArray(0,0,xSize,ySize)\n",
    "usa_mask = usa_mask.reshape(-1,1)\n",
    "usa_mask = np.where(np.isnan(usa_mask)== False)[0]"
   ]
  },
  {
   "cell_type": "code",
   "execution_count": 16,
   "metadata": {},
   "outputs": [],
   "source": [
    "#Merge indices\n",
    "mask = np.intersect1d(nans, usa_mask)"
   ]
  },
  {
   "cell_type": "markdown",
   "metadata": {},
   "source": [
    "## Reduce size"
   ]
  },
  {
   "cell_type": "code",
   "execution_count": 17,
   "metadata": {},
   "outputs": [],
   "source": [
    "data = data[mask,]"
   ]
  },
  {
   "cell_type": "code",
   "execution_count": 18,
   "metadata": {},
   "outputs": [
    {
     "data": {
      "text/plain": [
       "(10112344, 1)"
      ]
     },
     "execution_count": 18,
     "metadata": {},
     "output_type": "execute_result"
    }
   ],
   "source": [
    "data.shape"
   ]
  },
  {
   "cell_type": "markdown",
   "metadata": {},
   "source": [
    "#### Loop for the rest temporal images:"
   ]
  },
  {
   "cell_type": "code",
   "execution_count": 19,
   "metadata": {
    "scrolled": true
   },
   "outputs": [
    {
     "name": "stdout",
     "output_type": "stream",
     "text": [
      "range(1981, 2018)\n",
      "year: 1981\n",
      "year: 1982\n",
      "year: 1983\n",
      "year: 1984\n",
      "year: 1985\n",
      "year: 1986\n",
      "year: 1987\n",
      "year: 1988\n",
      "year: 1989\n",
      "year: 1990\n",
      "year: 1991\n",
      "year: 1992\n",
      "year: 1993\n",
      "year: 1994\n",
      "year: 1995\n",
      "year: 1996\n",
      "year: 1997\n",
      "year: 1998\n",
      "year: 1999\n",
      "year: 2000\n",
      "year: 2001\n",
      "year: 2002\n",
      "year: 2003\n",
      "year: 2004\n",
      "year: 2005\n",
      "year: 2006\n",
      "year: 2007\n",
      "year: 2008\n",
      "year: 2009\n",
      "year: 2010\n",
      "year: 2011\n",
      "year: 2012\n",
      "year: 2013\n",
      "year: 2014\n",
      "year: 2015\n",
      "year: 2016\n",
      "year: 2017\n",
      "(10112344, 38)\n"
     ]
    }
   ],
   "source": [
    "years = range(start_year+1, end_year+1)\n",
    "print(years)\n",
    "root_image = '/data/local/files/spring-index/' + dataset_name + '/'\n",
    "for yr in years:\n",
    "    print(\"year: \" + str(yr))\n",
    "    img = root_image + str(yr) + '.tif'\n",
    "    tifsrc = gdal.Open(img)\n",
    "    in_band = tifsrc.GetRasterBand(1)\n",
    "    xSize = in_band.XSize\n",
    "    ySize = in_band.YSize\n",
    "\n",
    "    data2 = tifsrc.ReadAsArray(0,0,xSize,ySize)\n",
    "    data2 = data2.reshape(-1,1)\n",
    "    data2 = data2[mask]\n",
    "    data = np.append(data, data2, axis=1)\n",
    "print(data.shape)"
   ]
  },
  {
   "cell_type": "code",
   "execution_count": 20,
   "metadata": {},
   "outputs": [
    {
     "data": {
      "text/plain": [
       "array([[113, 119, 119, ..., 111, 118, 114],\n",
       "       [113, 119, 119, ..., 111, 118, 114],\n",
       "       [113, 119, 119, ..., 111, 118, 114],\n",
       "       ...,\n",
       "       [ 12,  21,   7, ...,   7,   8,   9],\n",
       "       [ 12,  21,   7, ...,   7,   8,   9],\n",
       "       [ 12,  21,   7, ...,   7,   8,   9]], dtype=int32)"
      ]
     },
     "execution_count": 20,
     "metadata": {},
     "output_type": "execute_result"
    }
   ],
   "source": [
    "data = data.astype(dtype=np.int32)\n",
    "data"
   ]
  },
  {
   "cell_type": "code",
   "execution_count": 21,
   "metadata": {},
   "outputs": [
    {
     "data": {
      "text/plain": [
       "(10112344, 38)"
      ]
     },
     "execution_count": 21,
     "metadata": {},
     "output_type": "execute_result"
    }
   ],
   "source": [
    "data.shape"
   ]
  },
  {
   "cell_type": "markdown",
   "metadata": {},
   "source": [
    "#### Co-clustering:"
   ]
  },
  {
   "cell_type": "code",
   "execution_count": 22,
   "metadata": {
    "scrolled": true
   },
   "outputs": [],
   "source": [
    "data_da = da.from_array(data, chunks=(400000,38))\n",
    "data_da = data_da.persist()\n",
    "#dataDask = client.scatter(data)"
   ]
  },
  {
   "cell_type": "markdown",
   "metadata": {},
   "source": [
    "##### Old call\n",
    "```\n",
    "start_time = time.time()\n",
    "[R, C, vals] = coclust_idiv_Client_da(data_da, k, l, scheme, options)\n",
    "print(\"Compute R results\")\n",
    "R = R\n",
    "print(\"Compute C results\")\n",
    "C = C\n",
    "val = vals\n",
    "print(\"---Total: %s seconds ---\" % (time.time() - start_time))\n",
    "```"
   ]
  },
  {
   "cell_type": "markdown",
   "metadata": {},
   "source": [
    "##### New call"
   ]
  },
  {
   "cell_type": "code",
   "execution_count": null,
   "metadata": {},
   "outputs": [
    {
     "name": "stdout",
     "output_type": "stream",
     "text": [
      "noptions = 4\n",
      "m_n_ones_da persist!!!\n",
      "Gavg_da persist!!!\n",
      "idk_da persist!!!\n",
      "idl_da persist!!!\n",
      "num of runs: 15\n",
      "Number of run scheduled: 0\n",
      "Number of run scheduled: 1\n",
      "Number of run scheduled: 2\n",
      "Number of run scheduled: 3\n",
      "Number of run scheduled: 4\n",
      "Number of run scheduled: 5\n",
      "Number of run scheduled: 6\n",
      "Number of run scheduled: 7\n",
      "Number of run scheduled: 8\n",
      "Number of run scheduled: 9\n",
      "Number of run scheduled: 10\n",
      "Number of run scheduled: 11\n",
      "Number of run scheduled: 12\n",
      "Number of run scheduled: 13\n",
      "Number of run scheduled: 14\n",
      "Number of runs gathered: 0\n"
     ]
    }
   ],
   "source": [
    "start_time = time.time()\n",
    "res = await coclust_idiv_Client_da_For(data_da, k, l, scheme, options)\n",
    "R = res[0]\n",
    "C = res[1]\n",
    "val = res[2]\n",
    "print(\"---Total: %s seconds ---\" % (time.time() - start_time))"
   ]
  },
  {
   "cell_type": "markdown",
   "metadata": {},
   "source": [
    "### Visualization:"
   ]
  },
  {
   "cell_type": "markdown",
   "metadata": {},
   "source": [
    "#### Plot time clusters"
   ]
  },
  {
   "cell_type": "code",
   "execution_count": 24,
   "metadata": {},
   "outputs": [
    {
     "name": "stdout",
     "output_type": "stream",
     "text": [
      "(38, 5)\n",
      "(10112344, 70)\n",
      "[0 1 0 0 0 1 3 2 1 2 3 2 2 0 2 2 2 2 2 3 3 0 2 2 4 2 3 4 0 2 1 0 3 0 0 4 4\n",
      " 3]\n"
     ]
    },
    {
     "data": {
      "text/plain": [
       "Text(0.5, 0, 'Years')"
      ]
     },
     "execution_count": 24,
     "metadata": {},
     "output_type": "execute_result"
    },
    {
     "data": {
      "image/png": "[encoded data removed]",
      "text/plain": [
       "<Figure size 432x288 with 1 Axes>"
      ]
     },
     "metadata": {
      "needs_background": "light"
     },
     "output_type": "display_data"
    }
   ],
   "source": [
    "C2 = C\n",
    "R2 = R\n",
    "val2 = val\n",
    "print(C2.shape)\n",
    "print(R2.shape)\n",
    "C2_clusters = np.where(C2==1)[1]\n",
    "print(C2_clusters)\n",
    "plt.plot(range(0,len(C2_clusters)),C2_clusters)\n",
    "plt.ylabel('Cluster')\n",
    "plt.xlabel('Years')\n"
   ]
  },
  {
   "cell_type": "markdown",
   "metadata": {},
   "source": [
    "#### Save time clusters"
   ]
  },
  {
   "cell_type": "code",
   "execution_count": 25,
   "metadata": {},
   "outputs": [],
   "source": [
    "csv_path = '/data/local/home/parrot/' + str(dataset_name) + '_' + str(k) + '_' + str(l) + '_' + str(runs) + '_' + str(iterations) + '_new.csv'\n",
    "np.savetxt(csv_path, C2, delimiter=\",\")"
   ]
  },
  {
   "cell_type": "markdown",
   "metadata": {},
   "source": [
    "#### Plot Spatial Clusters"
   ]
  },
  {
   "cell_type": "code",
   "execution_count": 26,
   "metadata": {},
   "outputs": [
    {
     "name": "stdout",
     "output_type": "stream",
     "text": [
      "(3892, 7808)\n",
      "[ 0.  1.  2. ... nan nan nan]\n"
     ]
    }
   ],
   "source": [
    "R_clusters = np.empty(ySize*xSize)\n",
    "R_clusters[:] =  np.nan\n",
    "R_clusters_res = np.where(R2==1)[1]\n",
    "R_clusters[mask] = R_clusters_res\n",
    "R_clusters = R_clusters.reshape(ySize,xSize)\n",
    "print(R_clusters.shape)\n",
    "print(np.unique(R_clusters))\n"
   ]
  },
  {
   "cell_type": "code",
   "execution_count": 27,
   "metadata": {},
   "outputs": [
    {
     "data": {
      "text/plain": [
       "(10112344,)"
      ]
     },
     "execution_count": 27,
     "metadata": {},
     "output_type": "execute_result"
    }
   ],
   "source": [
    "R_clusters_res.shape"
   ]
  },
  {
   "cell_type": "code",
   "execution_count": 28,
   "metadata": {
    "scrolled": true
   },
   "outputs": [
    {
     "data": {
      "image/png": "[encoded data removed]",
      "text/plain": [
       "<Figure size 432x288 with 2 Axes>"
      ]
     },
     "metadata": {
      "needs_background": "light"
     },
     "output_type": "display_data"
    }
   ],
   "source": [
    "empty_string_labes = ['']\n",
    "fig1 = plt.figure(1)\n",
    "ax1 = fig1.add_subplot(1,1,1)\n",
    "img = plt.imshow(R_clusters)\n",
    "plt.title('spatial clusters')\n",
    "ax1.set_yticklabels(empty_string_labes)\n",
    "ax1.set_xticklabels(empty_string_labes)\n",
    "plt.colorbar(orientation='horizontal')\n",
    "ax1.grid(True)\n",
    "plt.clim(float(0),float(69))"
   ]
  },
  {
   "cell_type": "markdown",
   "metadata": {},
   "source": [
    "#### Save Spatial Clusters"
   ]
  },
  {
   "cell_type": "code",
   "execution_count": 36,
   "metadata": {},
   "outputs": [],
   "source": [
    "nx = xSize\n",
    "ny = ySize\n",
    "geotransform = usa_mask_fp.GetGeoTransform()\n",
    "projection = usa_mask_fp.GetProjection()\n",
    "band_1 = R_clusters\n",
    "geotiff_path = '/data/local/home/parrot/' + str(dataset_name) + '_' + str(k) + '_' + str(l) + '_' + str(runs) + '_' + str(iterations) + '_new.tif'\n",
    "\n",
    "new_GeoTiff = gdal.GetDriverByName('GTiff').Create(geotiff_path, nx, ny, 1, gdal.GDT_Float32, ['COMPRESS=DEFLATE'])\n",
    "new_GeoTiff.SetGeoTransform(geotransform)    # specify coords\n",
    "new_GeoTiff.SetProjection(projection) # export coords to file\n",
    "new_GeoTiff.GetRasterBand(1).WriteArray(band_1)   # write r-band to the raster\n",
    "new_GeoTiff.FlushCache()                     # write to disk\n",
    "new_GeoTiff = None  "
   ]
  },
  {
   "cell_type": "code",
   "execution_count": 37,
   "metadata": {},
   "outputs": [],
   "source": [
    "G = co_group_avg(data, R2, C2)"
   ]
  },
  {
   "cell_type": "code",
   "execution_count": 38,
   "metadata": {},
   "outputs": [
    {
     "name": "stdout",
     "output_type": "stream",
     "text": [
      "round: 0\n",
      "round: 1\n",
      "round: 2\n",
      "round: 3\n",
      "round: 4\n"
     ]
    }
   ],
   "source": [
    "nx = xSize\n",
    "ny = ySize\n",
    "geotransform = usa_mask_fp.GetGeoTransform()\n",
    "projection = usa_mask_fp.GetProjection()\n",
    "\n",
    "for f in range(0,5):\n",
    "    print(\"round: \" + str(f))\n",
    "    band_1 = np.empty(ySize*xSize)\n",
    "    band_1[:] =  np.nan\n",
    "    band_1[mask] = G[f,]\n",
    "    band_1 = band_1.reshape(ySize, xSize)\n",
    "    geotiff_path = '/data/local/home/parrot/' + str(dataset_name) + '_temp_clust_' + str(f) + '_opts_'+ str(k) + '_' + str(l) + '_' + str(runs) + '_' + str(iterations) + '_new.tif'\n",
    "\n",
    "    new_GeoTiff = gdal.GetDriverByName('GTiff').Create(geotiff_path, nx, ny, 1, gdal.GDT_Float32, ['COMPRESS=DEFLATE'])\n",
    "    new_GeoTiff.SetGeoTransform(geotransform)    # specify coords\n",
    "    new_GeoTiff.SetProjection(projection) # export coords to file\n",
    "    new_GeoTiff.GetRasterBand(1).WriteArray(band_1)   # write r-band to the raster\n",
    "    new_GeoTiff.FlushCache()                     # write to disk\n",
    "    new_GeoTiff = None "
   ]
  },
  {
   "cell_type": "markdown",
   "metadata": {},
   "source": [
    "# BloomFinal"
   ]
  },
  {
   "cell_type": "markdown",
   "metadata": {},
   "source": [
    "#### Load the first temporal image:"
   ]
  },
  {
   "cell_type": "code",
   "execution_count": 39,
   "metadata": {},
   "outputs": [],
   "source": [
    "dataset_name = \"BloomFinal_one_band\"\n",
    "tifsrc = gdal.Open('/data/local/files/spring-index/' + dataset_name + '/' + str(start_year) + '.tif')\n",
    "in_band = tifsrc.GetRasterBand(1)\n",
    "xSize = in_band.XSize\n",
    "ySize = in_band.YSize\n",
    "data = tifsrc.ReadAsArray(0,0,xSize,ySize)\n",
    "data = data.reshape(-1,1)\n",
    "nans = np.where(np.isnan(data)== False)[0]"
   ]
  },
  {
   "cell_type": "code",
   "execution_count": 40,
   "metadata": {},
   "outputs": [],
   "source": [
    "usa_mask_fp = gdal.Open('/data/local/files/usa_mask.tif')\n",
    "usa_mask_band = usa_mask_fp.GetRasterBand(1)\n",
    "usa_mask = usa_mask_band.ReadAsArray(0,0,xSize,ySize)\n",
    "usa_mask = usa_mask.reshape(-1,1)\n",
    "usa_mask = np.where(np.isnan(usa_mask)== False)[0]"
   ]
  },
  {
   "cell_type": "code",
   "execution_count": 41,
   "metadata": {},
   "outputs": [],
   "source": [
    "#Merge indices\n",
    "mask = np.intersect1d(nans, usa_mask)"
   ]
  },
  {
   "cell_type": "markdown",
   "metadata": {},
   "source": [
    "## Reduce size"
   ]
  },
  {
   "cell_type": "code",
   "execution_count": 42,
   "metadata": {},
   "outputs": [],
   "source": [
    "data = data[mask,]"
   ]
  },
  {
   "cell_type": "code",
   "execution_count": 43,
   "metadata": {},
   "outputs": [
    {
     "data": {
      "text/plain": [
       "(10112318, 1)"
      ]
     },
     "execution_count": 43,
     "metadata": {},
     "output_type": "execute_result"
    }
   ],
   "source": [
    "data.shape"
   ]
  },
  {
   "cell_type": "markdown",
   "metadata": {},
   "source": [
    "#### Loop for the rest temporal images:"
   ]
  },
  {
   "cell_type": "code",
   "execution_count": 44,
   "metadata": {
    "scrolled": true
   },
   "outputs": [
    {
     "name": "stdout",
     "output_type": "stream",
     "text": [
      "range(1981, 2018)\n",
      "year: 1981\n",
      "year: 1982\n",
      "year: 1983\n",
      "year: 1984\n",
      "year: 1985\n",
      "year: 1986\n",
      "year: 1987\n",
      "year: 1988\n",
      "year: 1989\n",
      "year: 1990\n",
      "year: 1991\n",
      "year: 1992\n",
      "year: 1993\n",
      "year: 1994\n",
      "year: 1995\n",
      "year: 1996\n",
      "year: 1997\n",
      "year: 1998\n",
      "year: 1999\n",
      "year: 2000\n",
      "year: 2001\n",
      "year: 2002\n",
      "year: 2003\n",
      "year: 2004\n",
      "year: 2005\n",
      "year: 2006\n",
      "year: 2007\n",
      "year: 2008\n",
      "year: 2009\n",
      "year: 2010\n",
      "year: 2011\n",
      "year: 2012\n",
      "year: 2013\n",
      "year: 2014\n",
      "year: 2015\n",
      "year: 2016\n",
      "year: 2017\n",
      "(10112318, 38)\n"
     ]
    }
   ],
   "source": [
    "years = range(start_year+1, end_year+1)\n",
    "print(years)\n",
    "root_image = '/data/local/files/spring-index/' + dataset_name + '/'\n",
    "for yr in years:\n",
    "    print(\"year: \" + str(yr))\n",
    "    img = root_image + str(yr) + '.tif'\n",
    "    tifsrc = gdal.Open(img)\n",
    "    in_band = tifsrc.GetRasterBand(1)\n",
    "    xSize = in_band.XSize\n",
    "    ySize = in_band.YSize\n",
    "\n",
    "    data2 = tifsrc.ReadAsArray(0,0,xSize,ySize)\n",
    "    data2 = data2.reshape(-1,1)\n",
    "    data2 = data2[mask]\n",
    "    data = np.append(data, data2, axis=1)\n",
    "print(data.shape)"
   ]
  },
  {
   "cell_type": "code",
   "execution_count": 45,
   "metadata": {},
   "outputs": [
    {
     "data": {
      "text/plain": [
       "array([[140, 146, 144, ..., 145, 118, 149],\n",
       "       [140, 146, 144, ..., 145, 118, 149],\n",
       "       [140, 146, 144, ..., 145, 118, 149],\n",
       "       ...,\n",
       "       [ 23,  37,  21, ...,  18,  21,  20],\n",
       "       [ 23,  37,  21, ...,  18,  21,  20],\n",
       "       [ 23,  37,  21, ...,  18,  21,  20]], dtype=int32)"
      ]
     },
     "execution_count": 45,
     "metadata": {},
     "output_type": "execute_result"
    }
   ],
   "source": [
    "data = data.astype(dtype=np.int32)\n",
    "data"
   ]
  },
  {
   "cell_type": "code",
   "execution_count": 46,
   "metadata": {},
   "outputs": [
    {
     "data": {
      "text/plain": [
       "(10112318, 38)"
      ]
     },
     "execution_count": 46,
     "metadata": {},
     "output_type": "execute_result"
    }
   ],
   "source": [
    "data.shape"
   ]
  },
  {
   "cell_type": "markdown",
   "metadata": {},
   "source": [
    "#### Co-clustering:"
   ]
  },
  {
   "cell_type": "code",
   "execution_count": 47,
   "metadata": {
    "scrolled": true
   },
   "outputs": [],
   "source": [
    "data_da = da.from_array(data, chunks=(400000,38))\n",
    "data_da = data_da.persist()\n",
    "#dataDask = client.scatter(data)"
   ]
  },
  {
   "cell_type": "code",
   "execution_count": 48,
   "metadata": {},
   "outputs": [
    {
     "name": "stdout",
     "output_type": "stream",
     "text": [
      "noptions = 4\n",
      "m_n_ones_da persist!!!\n",
      "Gavg_da persist!!!\n",
      "idk_da persist!!!\n",
      "idl_da persist!!!\n",
      "num of runs: 15\n",
      "Number of run scheduled: 0\n",
      "Number of run scheduled: 1\n",
      "Number of run scheduled: 2\n",
      "Number of run scheduled: 3\n",
      "Number of run scheduled: 4\n",
      "Number of run scheduled: 5\n",
      "Number of run scheduled: 6\n",
      "Number of run scheduled: 7\n",
      "Number of run scheduled: 8\n",
      "Number of run scheduled: 9\n",
      "Number of run scheduled: 10\n",
      "Number of run scheduled: 11\n",
      "Number of run scheduled: 12\n",
      "Number of run scheduled: 13\n",
      "Number of run scheduled: 14\n",
      "Number of runs gathered: 0\n",
      "---: Run done in 1505.3321645259857 seconds ---\n",
      "Number of runs gathered: 1\n",
      "---: Run done in 0.031479835510253906 seconds ---\n",
      "Number of runs gathered: 2\n",
      "---: Run done in 0.03266716003417969 seconds ---\n",
      "Number of runs gathered: 3\n",
      "---: Run done in 0.032808542251586914 seconds ---\n",
      "Number of runs gathered: 4\n",
      "---: Run done in 0.03030109405517578 seconds ---\n",
      "Number of runs gathered: 5\n",
      "---: Run done in 0.02759075164794922 seconds ---\n",
      "Number of runs gathered: 6\n",
      "---: Run done in 0.030262470245361328 seconds ---\n",
      "Number of runs gathered: 7\n",
      "---: Run done in 0.033570289611816406 seconds ---\n",
      "Number of runs gathered: 8\n",
      "---: Run done in 0.030429840087890625 seconds ---\n",
      "Number of runs gathered: 9\n",
      "---: Run done in 0.035930633544921875 seconds ---\n",
      "Number of runs gathered: 10\n",
      "---: Run done in 0.0341947078704834 seconds ---\n",
      "Number of runs gathered: 11\n",
      "---: Run done in 0.0438992977142334 seconds ---\n",
      "Number of runs gathered: 12\n",
      "---: Run done in 0.03260636329650879 seconds ---\n",
      "Number of runs gathered: 13\n",
      "---: Run done in 0.033196449279785156 seconds ---\n",
      "Number of runs gathered: 14\n",
      "---: Run done in 0.03245425224304199 seconds ---\n",
      "get R1\n",
      "get C1\n",
      "---Total: 1506.1738600730896 seconds ---\n"
     ]
    }
   ],
   "source": [
    "start_time = time.time()\n",
    "res = await coclust_idiv_Client_da_For(data_da, k, l, scheme, options)\n",
    "R = res[0]\n",
    "C = res[1]\n",
    "val = res[2]\n",
    "print(\"---Total: %s seconds ---\" % (time.time() - start_time))"
   ]
  },
  {
   "cell_type": "markdown",
   "metadata": {},
   "source": [
    "### Visualization:"
   ]
  },
  {
   "cell_type": "markdown",
   "metadata": {},
   "source": [
    "#### Plot time clusters"
   ]
  },
  {
   "cell_type": "code",
   "execution_count": 49,
   "metadata": {},
   "outputs": [
    {
     "name": "stdout",
     "output_type": "stream",
     "text": [
      "(38, 5)\n",
      "(10112318, 70)\n",
      "[1 0 1 1 1 0 2 0 0 0 2 3 2 1 0 3 1 3 1 3 2 0 1 0 0 3 2 0 1 3 1 1 2 1 1 0 4\n",
      " 2]\n"
     ]
    },
    {
     "data": {
      "text/plain": [
       "Text(0.5, 0, 'Years')"
      ]
     },
     "execution_count": 49,
     "metadata": {},
     "output_type": "execute_result"
    },
    {
     "data": {
      "image/png": "[encoded data removed]",
      "text/plain": [
       "<Figure size 432x288 with 1 Axes>"
      ]
     },
     "metadata": {
      "needs_background": "light"
     },
     "output_type": "display_data"
    }
   ],
   "source": [
    "C2 = C\n",
    "R2 = R\n",
    "val2 = val\n",
    "print(C2.shape)\n",
    "print(R2.shape)\n",
    "C2_clusters = np.where(C2==1)[1]\n",
    "print(C2_clusters)\n",
    "plt.plot(range(0,len(C2_clusters)),C2_clusters)\n",
    "plt.ylabel('Cluster')\n",
    "plt.xlabel('Years')\n"
   ]
  },
  {
   "cell_type": "markdown",
   "metadata": {},
   "source": [
    "#### Save time clusters"
   ]
  },
  {
   "cell_type": "code",
   "execution_count": 50,
   "metadata": {},
   "outputs": [],
   "source": [
    "csv_path = '/data/local/home/parrot/' + str(dataset_name) + '_' + str(k) + '_' + str(l) + '_' + str(runs) + '_' + str(iterations) + '_new.csv'\n",
    "np.savetxt(csv_path, C2, delimiter=\",\")"
   ]
  },
  {
   "cell_type": "markdown",
   "metadata": {},
   "source": [
    "#### Plot Spatial Clusters"
   ]
  },
  {
   "cell_type": "code",
   "execution_count": 51,
   "metadata": {},
   "outputs": [
    {
     "name": "stdout",
     "output_type": "stream",
     "text": [
      "(3892, 7808)\n",
      "[ 0.  1.  2. ... nan nan nan]\n"
     ]
    }
   ],
   "source": [
    "R_clusters = np.empty(ySize*xSize)\n",
    "R_clusters[:] =  np.nan\n",
    "R_clusters_res = np.where(R2==1)[1]\n",
    "R_clusters[mask] = R_clusters_res\n",
    "R_clusters = R_clusters.reshape(ySize,xSize)\n",
    "print(R_clusters.shape)\n",
    "print(np.unique(R_clusters))\n"
   ]
  },
  {
   "cell_type": "code",
   "execution_count": 52,
   "metadata": {},
   "outputs": [
    {
     "data": {
      "text/plain": [
       "(10112318,)"
      ]
     },
     "execution_count": 52,
     "metadata": {},
     "output_type": "execute_result"
    }
   ],
   "source": [
    "R_clusters_res.shape"
   ]
  },
  {
   "cell_type": "code",
   "execution_count": 53,
   "metadata": {
    "scrolled": true
   },
   "outputs": [
    {
     "data": {
      "image/png": "[encoded data removed]",
      "text/plain": [
       "<Figure size 432x288 with 2 Axes>"
      ]
     },
     "metadata": {
      "needs_background": "light"
     },
     "output_type": "display_data"
    }
   ],
   "source": [
    "empty_string_labes = ['']\n",
    "fig1 = plt.figure(1)\n",
    "ax1 = fig1.add_subplot(1,1,1)\n",
    "img = plt.imshow(R_clusters)\n",
    "plt.title('spatial clusters')\n",
    "ax1.set_yticklabels(empty_string_labes)\n",
    "ax1.set_xticklabels(empty_string_labes)\n",
    "plt.colorbar(orientation='horizontal')\n",
    "ax1.grid(True)\n",
    "plt.clim(float(0),float(69))"
   ]
  },
  {
   "cell_type": "markdown",
   "metadata": {},
   "source": [
    "#### Save Spatial Clusters"
   ]
  },
  {
   "cell_type": "code",
   "execution_count": 54,
   "metadata": {},
   "outputs": [],
   "source": [
    "nx = xSize\n",
    "ny = ySize\n",
    "geotransform = usa_mask_fp.GetGeoTransform()\n",
    "projection = usa_mask_fp.GetProjection()\n",
    "band_1 = R_clusters\n",
    "geotiff_path = '/data/local/home/parrot/' + str(dataset_name) + '_' + str(k) + '_' + str(l) + '_' + str(runs) + '_' + str(iterations) + '_new.tif'\n",
    "\n",
    "new_GeoTiff = gdal.GetDriverByName('GTiff').Create(geotiff_path, nx, ny, 1, gdal.GDT_Float32, ['COMPRESS=DEFLATE'])\n",
    "new_GeoTiff.SetGeoTransform(geotransform)    # specify coords\n",
    "new_GeoTiff.SetProjection(projection) # export coords to file\n",
    "new_GeoTiff.GetRasterBand(1).WriteArray(band_1)   # write r-band to the raster\n",
    "new_GeoTiff.FlushCache()                     # write to disk\n",
    "new_GeoTiff = None  "
   ]
  },
  {
   "cell_type": "code",
   "execution_count": 55,
   "metadata": {},
   "outputs": [],
   "source": [
    "G = co_group_avg(data, R2, C2)"
   ]
  },
  {
   "cell_type": "code",
   "execution_count": 56,
   "metadata": {},
   "outputs": [
    {
     "name": "stdout",
     "output_type": "stream",
     "text": [
      "round: 0\n",
      "round: 1\n",
      "round: 2\n",
      "round: 3\n",
      "round: 4\n"
     ]
    }
   ],
   "source": [
    "nx = xSize\n",
    "ny = ySize\n",
    "geotransform = usa_mask_fp.GetGeoTransform()\n",
    "projection = usa_mask_fp.GetProjection()\n",
    "\n",
    "for f in range(0,5):\n",
    "    print(\"round: \" + str(f))\n",
    "    band_1 = np.empty(ySize*xSize)\n",
    "    band_1[:] =  np.nan\n",
    "    band_1[mask] = G[f,]\n",
    "    band_1 = band_1.reshape(ySize, xSize)\n",
    "    geotiff_path = '/data/local/home/parrot/' + str(dataset_name) + '_temp_clust_' + str(f) + '_opts_'+ str(k) + '_' + str(l) + '_' + str(runs) + '_' + str(iterations) + '_new.tif'\n",
    "\n",
    "    new_GeoTiff = gdal.GetDriverByName('GTiff').Create(geotiff_path, nx, ny, 1, gdal.GDT_Float32, ['COMPRESS=DEFLATE'])\n",
    "    new_GeoTiff.SetGeoTransform(geotransform)    # specify coords\n",
    "    new_GeoTiff.SetProjection(projection) # export coords to file\n",
    "    new_GeoTiff.GetRasterBand(1).WriteArray(band_1)   # write r-band to the raster\n",
    "    new_GeoTiff.FlushCache()                     # write to disk\n",
    "    new_GeoTiff = None "
   ]
  },
  {
   "cell_type": "markdown",
   "metadata": {},
   "source": [
    "# SOST"
   ]
  },
  {
   "cell_type": "code",
   "execution_count": 57,
   "metadata": {},
   "outputs": [],
   "source": [
    "start_year = 1989\n",
    "end_year = 2014\n",
    "\n",
    "k=100\n",
    "l = 5\n",
    "scheme = 2\n",
    "runs = 15\n",
    "iterations = 100\n",
    "options = [0.00001, iterations, runs, 10 ** (-8)]"
   ]
  },
  {
   "cell_type": "markdown",
   "metadata": {},
   "source": [
    "#### Load the first temporal image:"
   ]
  },
  {
   "cell_type": "code",
   "execution_count": 58,
   "metadata": {},
   "outputs": [],
   "source": [
    "dataset_name = \"SOST\"\n",
    "tifsrc = gdal.Open('/data/local/files/avhrr/' + dataset_name + '/av_SOST' + str(start_year) + 'v4_SIx.tif')\n",
    "in_band = tifsrc.GetRasterBand(1)\n",
    "xSize = in_band.XSize\n",
    "ySize = in_band.YSize\n",
    "data = tifsrc.ReadAsArray(0,0,xSize,ySize)\n",
    "data = data.reshape(-1,1)\n",
    "nans = np.where(np.isnan(data)== False)[0]"
   ]
  },
  {
   "cell_type": "code",
   "execution_count": 59,
   "metadata": {},
   "outputs": [],
   "source": [
    "usa_mask_fp = gdal.Open('/data/local/files/usa_mask.tif')\n",
    "usa_mask_band = usa_mask_fp.GetRasterBand(1)\n",
    "usa_mask = usa_mask_band.ReadAsArray(0,0,xSize,ySize)\n",
    "usa_mask = usa_mask.reshape(-1,1)\n",
    "usa_mask = np.where(np.isnan(usa_mask)== False)[0]"
   ]
  },
  {
   "cell_type": "code",
   "execution_count": 60,
   "metadata": {},
   "outputs": [],
   "source": [
    "#Merge indices\n",
    "mask = np.intersect1d(nans, usa_mask)"
   ]
  },
  {
   "cell_type": "markdown",
   "metadata": {},
   "source": [
    "## Reduce size"
   ]
  },
  {
   "cell_type": "code",
   "execution_count": 61,
   "metadata": {},
   "outputs": [],
   "source": [
    "data = data[mask,]\n",
    "thousands_mask = np.where(data != -1000)"
   ]
  },
  {
   "cell_type": "code",
   "execution_count": 62,
   "metadata": {},
   "outputs": [
    {
     "data": {
      "text/plain": [
       "(10115631, 1)"
      ]
     },
     "execution_count": 62,
     "metadata": {},
     "output_type": "execute_result"
    }
   ],
   "source": [
    "data.shape"
   ]
  },
  {
   "cell_type": "markdown",
   "metadata": {},
   "source": [
    "#### Loop for the rest temporal images:"
   ]
  },
  {
   "cell_type": "code",
   "execution_count": 63,
   "metadata": {
    "scrolled": true
   },
   "outputs": [
    {
     "name": "stdout",
     "output_type": "stream",
     "text": [
      "range(1990, 2015)\n",
      "year: 1990\n",
      "year: 1991\n",
      "year: 1992\n",
      "year: 1993\n",
      "year: 1994\n",
      "year: 1995\n",
      "year: 1996\n",
      "year: 1997\n",
      "year: 1998\n",
      "year: 1999\n",
      "year: 2000\n",
      "year: 2001\n",
      "year: 2002\n",
      "year: 2003\n",
      "year: 2004\n",
      "year: 2005\n",
      "year: 2006\n",
      "year: 2007\n",
      "year: 2008\n",
      "year: 2009\n",
      "year: 2010\n",
      "year: 2011\n",
      "year: 2012\n",
      "year: 2013\n",
      "year: 2014\n",
      "(10115631, 26)\n"
     ]
    }
   ],
   "source": [
    "years = range(start_year+1, end_year+1)\n",
    "print(years)\n",
    "root_image = '/data/local/files/avhrr/' + dataset_name + '/'\n",
    "for yr in years:\n",
    "    print(\"year: \" + str(yr))\n",
    "    img = root_image + 'av_SOST' + str(yr) + 'v4_SIx.tif'\n",
    "    tifsrc = gdal.Open(img)\n",
    "    in_band = tifsrc.GetRasterBand(1)\n",
    "    xSize = in_band.XSize\n",
    "    ySize = in_band.YSize\n",
    "\n",
    "    data2 = tifsrc.ReadAsArray(0,0,xSize,ySize)\n",
    "    data2 = data2.reshape(-1,1)\n",
    "    data2 = data2[mask]\n",
    "    thousands = np.where(data2 != -1000)\n",
    "    thousands_mask = np.intersect1d(thousands_mask,thousands)\n",
    "    data = np.append(data, data2, axis=1)\n",
    "print(data.shape)"
   ]
  },
  {
   "cell_type": "code",
   "execution_count": 64,
   "metadata": {},
   "outputs": [
    {
     "data": {
      "text/plain": [
       "7012087"
      ]
     },
     "execution_count": 64,
     "metadata": {},
     "output_type": "execute_result"
    }
   ],
   "source": [
    "len(thousands_mask)"
   ]
  },
  {
   "cell_type": "code",
   "execution_count": 65,
   "metadata": {},
   "outputs": [],
   "source": [
    "data = data[thousands_mask, :]"
   ]
  },
  {
   "cell_type": "code",
   "execution_count": 66,
   "metadata": {},
   "outputs": [
    {
     "data": {
      "text/plain": [
       "(7012087, 26)"
      ]
     },
     "execution_count": 66,
     "metadata": {},
     "output_type": "execute_result"
    }
   ],
   "source": [
    "data.shape"
   ]
  },
  {
   "cell_type": "markdown",
   "metadata": {},
   "source": [
    "#### Co-clustering:"
   ]
  },
  {
   "cell_type": "code",
   "execution_count": 67,
   "metadata": {
    "scrolled": true
   },
   "outputs": [],
   "source": [
    "data_da = da.from_array(data, chunks=(400000,38))\n",
    "data_da = data_da.persist()\n",
    "#dataDask = client.scatter(data)"
   ]
  },
  {
   "cell_type": "code",
   "execution_count": 68,
   "metadata": {},
   "outputs": [
    {
     "name": "stdout",
     "output_type": "stream",
     "text": [
      "noptions = 4\n",
      "m_n_ones_da persist!!!\n",
      "Gavg_da persist!!!\n",
      "idk_da persist!!!\n",
      "idl_da persist!!!\n",
      "num of runs: 15\n",
      "Number of run scheduled: 0\n",
      "Number of run scheduled: 1\n",
      "Number of run scheduled: 2\n",
      "Number of run scheduled: 3\n",
      "Number of run scheduled: 4\n",
      "Number of run scheduled: 5\n",
      "Number of run scheduled: 6\n",
      "Number of run scheduled: 7\n",
      "Number of run scheduled: 8\n",
      "Number of run scheduled: 9\n",
      "Number of run scheduled: 10\n",
      "Number of run scheduled: 11\n",
      "Number of run scheduled: 12\n",
      "Number of run scheduled: 13\n",
      "Number of run scheduled: 14\n",
      "Number of runs gathered: 0\n",
      "---: Run done in 147.11017084121704 seconds ---\n",
      "Number of runs gathered: 1\n",
      "---: Run done in 0.017755746841430664 seconds ---\n",
      "Number of runs gathered: 2\n",
      "---: Run done in 0.018793821334838867 seconds ---\n",
      "Number of runs gathered: 3\n",
      "---: Run done in 0.015195131301879883 seconds ---\n",
      "Number of runs gathered: 4\n",
      "---: Run done in 0.010056734085083008 seconds ---\n",
      "Number of runs gathered: 5\n",
      "---: Run done in 0.028979778289794922 seconds ---\n",
      "Number of runs gathered: 6\n",
      "---: Run done in 0.010923624038696289 seconds ---\n",
      "Number of runs gathered: 7\n",
      "---: Run done in 0.022945404052734375 seconds ---\n",
      "Number of runs gathered: 8\n",
      "---: Run done in 0.009824275970458984 seconds ---\n",
      "Number of runs gathered: 9\n",
      "---: Run done in 0.02753925323486328 seconds ---\n",
      "Number of runs gathered: 10\n",
      "---: Run done in 0.011062383651733398 seconds ---\n",
      "Number of runs gathered: 11\n",
      "---: Run done in 0.02973008155822754 seconds ---\n",
      "Number of runs gathered: 12\n",
      "---: Run done in 0.016848325729370117 seconds ---\n",
      "Number of runs gathered: 13\n",
      "---: Run done in 0.008921623229980469 seconds ---\n",
      "Number of runs gathered: 14\n",
      "---: Run done in 0.020818233489990234 seconds ---\n",
      "get R1\n",
      "get C1\n",
      "---Total: 147.47916769981384 seconds ---\n"
     ]
    }
   ],
   "source": [
    "start_time = time.time()\n",
    "res = await coclust_idiv_Client_da_For(data_da, k, l, scheme, options)\n",
    "R = res[0]\n",
    "C = res[1]\n",
    "val = res[2]\n",
    "print(\"---Total: %s seconds ---\" % (time.time() - start_time))"
   ]
  },
  {
   "cell_type": "markdown",
   "metadata": {},
   "source": [
    "### Visualization:"
   ]
  },
  {
   "cell_type": "markdown",
   "metadata": {},
   "source": [
    "#### Plot time clusters"
   ]
  },
  {
   "cell_type": "code",
   "execution_count": 69,
   "metadata": {},
   "outputs": [
    {
     "name": "stdout",
     "output_type": "stream",
     "text": [
      "(26, 5)\n",
      "(7012087, 100)\n",
      "[0 0 0 0 0 0 0 0 0 0 0 0 0 0 0 0 0 0 0 0 0 0 0 0 0 0]\n"
     ]
    },
    {
     "data": {
      "text/plain": [
       "Text(0.5, 0, 'Years')"
      ]
     },
     "execution_count": 69,
     "metadata": {},
     "output_type": "execute_result"
    },
    {
     "data": {
      "image/png": "[encoded data removed]",
      "text/plain": [
       "<Figure size 432x288 with 1 Axes>"
      ]
     },
     "metadata": {
      "needs_background": "light"
     },
     "output_type": "display_data"
    }
   ],
   "source": [
    "C2 = C\n",
    "R2 = R\n",
    "val2 = val\n",
    "print(C2.shape)\n",
    "print(R2.shape)\n",
    "C2_clusters = np.where(C2==1)[1]\n",
    "print(C2_clusters)\n",
    "plt.plot(range(0,len(C2_clusters)),C2_clusters)\n",
    "plt.ylabel('Cluster')\n",
    "plt.xlabel('Years')\n"
   ]
  },
  {
   "cell_type": "markdown",
   "metadata": {},
   "source": [
    "#### Save time clusters"
   ]
  },
  {
   "cell_type": "code",
   "execution_count": 70,
   "metadata": {},
   "outputs": [],
   "source": [
    "csv_path = '/data/local/home/parrot/' + str(dataset_name) + '_' + str(k) + '_' + str(l) + '_' + str(runs) + '_' + str(iterations) + '_new.csv'\n",
    "np.savetxt(csv_path, C2, delimiter=\",\")"
   ]
  },
  {
   "cell_type": "markdown",
   "metadata": {},
   "source": [
    "#### Plot Spatial Clusters"
   ]
  },
  {
   "cell_type": "code",
   "execution_count": 71,
   "metadata": {},
   "outputs": [],
   "source": [
    "R_clusters_res = np.where(R2==1)[1]\n",
    "R_clusters_1000 = np.empty(10115631)\n",
    "R_clusters_1000[:] =  np.nan\n",
    "R_clusters_1000[thousands_mask] = R_clusters_res"
   ]
  },
  {
   "cell_type": "code",
   "execution_count": 72,
   "metadata": {},
   "outputs": [
    {
     "data": {
      "text/plain": [
       "(10115631,)"
      ]
     },
     "execution_count": 72,
     "metadata": {},
     "output_type": "execute_result"
    }
   ],
   "source": [
    "R_clusters_1000.shape"
   ]
  },
  {
   "cell_type": "code",
   "execution_count": 73,
   "metadata": {},
   "outputs": [
    {
     "data": {
      "text/plain": [
       "(7012087,)"
      ]
     },
     "execution_count": 73,
     "metadata": {},
     "output_type": "execute_result"
    }
   ],
   "source": [
    "R_clusters_res.shape"
   ]
  },
  {
   "cell_type": "code",
   "execution_count": 74,
   "metadata": {},
   "outputs": [
    {
     "name": "stdout",
     "output_type": "stream",
     "text": [
      "(3892, 7808)\n",
      "[77. nan nan ... nan nan nan]\n"
     ]
    }
   ],
   "source": [
    "R_clusters = np.empty(ySize*xSize)\n",
    "R_clusters[:] =  np.nan\n",
    "R_clusters[mask] = R_clusters_1000\n",
    "R_clusters = R_clusters.reshape(ySize,xSize)\n",
    "print(R_clusters.shape)\n",
    "print(np.unique(R_clusters))\n"
   ]
  },
  {
   "cell_type": "code",
   "execution_count": 75,
   "metadata": {},
   "outputs": [
    {
     "data": {
      "text/plain": [
       "(7012087,)"
      ]
     },
     "execution_count": 75,
     "metadata": {},
     "output_type": "execute_result"
    }
   ],
   "source": [
    "R_clusters_res.shape"
   ]
  },
  {
   "cell_type": "code",
   "execution_count": 76,
   "metadata": {
    "scrolled": true
   },
   "outputs": [
    {
     "data": {
      "image/png": "[encoded data removed]",
      "text/plain": [
       "<Figure size 432x288 with 2 Axes>"
      ]
     },
     "metadata": {
      "needs_background": "light"
     },
     "output_type": "display_data"
    }
   ],
   "source": [
    "empty_string_labes = ['']\n",
    "fig1 = plt.figure(1)\n",
    "ax1 = fig1.add_subplot(1,1,1)\n",
    "img = plt.imshow(R_clusters)\n",
    "plt.title('spatial clusters')\n",
    "ax1.set_yticklabels(empty_string_labes)\n",
    "ax1.set_xticklabels(empty_string_labes)\n",
    "plt.colorbar(orientation='horizontal')\n",
    "ax1.grid(True)\n",
    "plt.clim(float(0),float(30))"
   ]
  },
  {
   "cell_type": "markdown",
   "metadata": {},
   "source": [
    "#### Save Spatial Clusters"
   ]
  },
  {
   "cell_type": "code",
   "execution_count": 77,
   "metadata": {},
   "outputs": [],
   "source": [
    "nx = xSize\n",
    "ny = ySize\n",
    "geotransform = usa_mask_fp.GetGeoTransform()\n",
    "projection = usa_mask_fp.GetProjection()\n",
    "band_1 = R_clusters\n",
    "geotiff_path = '/data/local/home/parrot/' + str(dataset_name) + '_' + str(k) + '_' + str(l) + '_' + str(runs) + '_' + str(iterations) + '_new.tif'\n",
    "\n",
    "new_GeoTiff = gdal.GetDriverByName('GTiff').Create(geotiff_path, nx, ny, 1, gdal.GDT_Float32, ['COMPRESS=DEFLATE'])\n",
    "new_GeoTiff.SetGeoTransform(geotransform)    # specify coords\n",
    "new_GeoTiff.SetProjection(projection) # export coords to file\n",
    "new_GeoTiff.GetRasterBand(1).WriteArray(band_1)   # write r-band to the raster\n",
    "new_GeoTiff.FlushCache()                     # write to disk\n",
    "new_GeoTiff = None  "
   ]
  },
  {
   "cell_type": "code",
   "execution_count": 78,
   "metadata": {},
   "outputs": [],
   "source": [
    "nx = xSize\n",
    "ny = ySize\n",
    "geotransform = usa_mask_fp.GetGeoTransform()\n",
    "projection = usa_mask_fp.GetProjection()\n",
    "band_1 = R_clusters\n",
    "geotiff_path = '/data/local/home/parrot/' + str(dataset_name) + '_' + str(k) + '_' + str(l) + '_' + str(runs) + '_' + str(iterations) + '_new.tif'\n",
    "\n",
    "new_GeoTiff = gdal.GetDriverByName('GTiff').Create(geotiff_path, nx, ny, 1, gdal.GDT_Float32, ['COMPRESS=DEFLATE'])\n",
    "new_GeoTiff.SetGeoTransform(geotransform)    # specify coords\n",
    "new_GeoTiff.SetProjection(projection) # export coords to file\n",
    "new_GeoTiff.GetRasterBand(1).WriteArray(band_1)   # write r-band to the raster\n",
    "new_GeoTiff.FlushCache()                     # write to disk\n",
    "new_GeoTiff = None  "
   ]
  },
  {
   "cell_type": "code",
   "execution_count": 79,
   "metadata": {},
   "outputs": [],
   "source": [
    "G = co_group_avg(data, R2, C2)"
   ]
  },
  {
   "cell_type": "code",
   "execution_count": 80,
   "metadata": {},
   "outputs": [
    {
     "data": {
      "text/plain": [
       "(5, 7012087)"
      ]
     },
     "execution_count": 80,
     "metadata": {},
     "output_type": "execute_result"
    }
   ],
   "source": [
    "G.shape"
   ]
  },
  {
   "cell_type": "code",
   "execution_count": 81,
   "metadata": {},
   "outputs": [
    {
     "name": "stdout",
     "output_type": "stream",
     "text": [
      "round: 0\n",
      "round: 1\n",
      "round: 2\n",
      "round: 3\n",
      "round: 4\n"
     ]
    }
   ],
   "source": [
    "nx = xSize\n",
    "ny = ySize\n",
    "geotransform = usa_mask_fp.GetGeoTransform()\n",
    "projection = usa_mask_fp.GetProjection()\n",
    "\n",
    "for f in range(0,5):\n",
    "    print(\"round: \" + str(f))  \n",
    "    G_1000 = np.empty(10115631)\n",
    "    G_1000[:] =  np.nan\n",
    "    G_1000[thousands_mask] = G[f,]\n",
    "    band_1 = np.empty(ySize*xSize)\n",
    "    band_1[:] =  np.nan\n",
    "    band_1[mask] = G_1000\n",
    "    band_1 = band_1.reshape(ySize, xSize)\n",
    "    geotiff_path = '/data/local/home/parrot/' + str(dataset_name) + '_temp_clust_' + str(f) + '_opts_'+ str(k) + '_' + str(l) + '_' + str(runs) + '_' + str(iterations) + '_new.tif'\n",
    "\n",
    "    new_GeoTiff = gdal.GetDriverByName('GTiff').Create(geotiff_path, nx, ny, 1, gdal.GDT_Float32, ['COMPRESS=DEFLATE'])\n",
    "    new_GeoTiff.SetGeoTransform(geotransform)    # specify coords\n",
    "    new_GeoTiff.SetProjection(projection) # export coords to file\n",
    "    new_GeoTiff.GetRasterBand(1).WriteArray(band_1)   # write r-band to the raster\n",
    "    new_GeoTiff.FlushCache()                     # write to disk\n",
    "    new_GeoTiff = None "
   ]
  },
  {
   "cell_type": "code",
   "execution_count": 82,
   "metadata": {},
   "outputs": [
    {
     "data": {
      "text/plain": [
       "0.0"
      ]
     },
     "execution_count": 82,
     "metadata": {},
     "output_type": "execute_result"
    }
   ],
   "source": [
    "G[3,100000]"
   ]
  },
  {
   "cell_type": "markdown",
   "metadata": {},
   "source": [
    "### Extras"
   ]
  },
  {
   "cell_type": "code",
   "execution_count": 96,
   "metadata": {
    "scrolled": true
   },
   "outputs": [
    {
     "data": {
      "image/png": "[encoded data removed]",
      "text/plain": [
       "<Figure size 432x288 with 2 Axes>"
      ]
     },
     "metadata": {
      "needs_background": "light"
     },
     "output_type": "display_data"
    }
   ],
   "source": [
    "empty_string_labes = ['']\n",
    "fig1 = plt.figure(1)\n",
    "ax1 = fig1.add_subplot(1,1,1)\n",
    "img = plt.imshow(R_clusters)\n",
    "plt.title('spatial clusters')\n",
    "ax1.set_yticklabels(empty_string_labes)\n",
    "ax1.set_xticklabels(empty_string_labes)\n",
    "plt.colorbar(orientation='horizontal')\n",
    "ax1.grid(True)\n",
    "plt.clim(float(0),float(69))"
   ]
  },
  {
   "cell_type": "code",
   "execution_count": 41,
   "metadata": {},
   "outputs": [
    {
     "ename": "NameError",
     "evalue": "name 'C_clusters' is not defined",
     "output_type": "error",
     "traceback": [
      "\u001b[0;31m---------------------------------------------------------------------------\u001b[0m",
      "\u001b[0;31mNameError\u001b[0m                                 Traceback (most recent call last)",
      "\u001b[0;32m<ipython-input-41-e41d737c7ea5>\u001b[0m in \u001b[0;36m<module>\u001b[0;34m\u001b[0m\n\u001b[1;32m      1\u001b[0m \u001b[0myears\u001b[0m \u001b[0;34m=\u001b[0m \u001b[0;34m[\u001b[0m\u001b[0;36m1989\u001b[0m\u001b[0;34m]\u001b[0m \u001b[0;34m+\u001b[0m \u001b[0mlist\u001b[0m\u001b[0;34m(\u001b[0m\u001b[0myears\u001b[0m\u001b[0;34m)\u001b[0m\u001b[0;34m\u001b[0m\u001b[0;34m\u001b[0m\u001b[0m\n\u001b[0;32m----> 2\u001b[0;31m \u001b[0mcol_cluster\u001b[0m \u001b[0;34m=\u001b[0m \u001b[0mnp\u001b[0m\u001b[0;34m.\u001b[0m\u001b[0munique\u001b[0m\u001b[0;34m(\u001b[0m\u001b[0mC_clusters\u001b[0m\u001b[0;34m)\u001b[0m\u001b[0;34m\u001b[0m\u001b[0;34m\u001b[0m\u001b[0m\n\u001b[0m\u001b[1;32m      3\u001b[0m \u001b[0mleaf\u001b[0m \u001b[0;34m=\u001b[0m \u001b[0mnp\u001b[0m\u001b[0;34m.\u001b[0m\u001b[0mzeros\u001b[0m\u001b[0;34m(\u001b[0m\u001b[0mdata\u001b[0m\u001b[0;34m.\u001b[0m\u001b[0mshape\u001b[0m\u001b[0;34m)\u001b[0m\u001b[0;34m\u001b[0m\u001b[0;34m\u001b[0m\u001b[0m\n\u001b[1;32m      4\u001b[0m \u001b[0;32mfor\u001b[0m \u001b[0mtmp\u001b[0m \u001b[0;32min\u001b[0m \u001b[0mrange\u001b[0m\u001b[0;34m(\u001b[0m\u001b[0mlen\u001b[0m\u001b[0;34m(\u001b[0m\u001b[0mcol_cluster\u001b[0m\u001b[0;34m)\u001b[0m\u001b[0;34m)\u001b[0m\u001b[0;34m:\u001b[0m\u001b[0;34m\u001b[0m\u001b[0;34m\u001b[0m\u001b[0m\n\u001b[1;32m      5\u001b[0m     \u001b[0;32mfor\u001b[0m \u001b[0mspc\u001b[0m \u001b[0;32min\u001b[0m \u001b[0mrange\u001b[0m\u001b[0;34m(\u001b[0m\u001b[0mR\u001b[0m\u001b[0;34m.\u001b[0m\u001b[0mshape\u001b[0m\u001b[0;34m[\u001b[0m\u001b[0;36m1\u001b[0m\u001b[0;34m]\u001b[0m\u001b[0;34m)\u001b[0m\u001b[0;34m:\u001b[0m\u001b[0;34m\u001b[0m\u001b[0;34m\u001b[0m\u001b[0m\n",
      "\u001b[0;31mNameError\u001b[0m: name 'C_clusters' is not defined"
     ]
    }
   ],
   "source": [
    "years = [1989] + list(years)\n",
    "col_cluster = np.unique(C_clusters)\n",
    "leaf = np.zeros(data.shape)\n",
    "for tmp in range(len(col_cluster)):\n",
    "    for spc in range(R.shape[1]):\n",
    "        temp_ind = np.where(C_clusters==col_cluster[tmp])[0]\n",
    "        spatial_ind = np.where(R[:,spc]==1)[0]\n",
    "        leaf[spatial_ind,:] = data[spatial_ind,:]\n",
    "        leaf[:,temp_ind] = leaf[:,temp_ind]\n",
    "    \n",
    "    Leaf_mean = np.mean(leaf[:,temp_ind],axis=1)\n",
    "    Leaf_mean = Leaf_mean.reshape(ySize,xSize)\n",
    "    year_cl = [years[i] for i in temp_ind]\n",
    "    fig1 = plt.figure(tmp)\n",
    "    ax1 = fig1.add_subplot(1,1,1)\n",
    "    img = plt.imshow(Leaf_mean)\n",
    "    plt.title('Leaf mean for temporal cluster ' + str(year_cl))\n",
    "    ax1.set_yticklabels(empty_string_labes)\n",
    "    ax1.set_xticklabels(empty_string_labes)\n",
    "    plt.colorbar(orientation='horizontal')\n",
    "    ax1.grid(True)\n",
    "    plt.clim(float(29),float(81))"
   ]
  },
  {
   "cell_type": "markdown",
   "metadata": {},
   "source": [
    "## Debugging area"
   ]
  },
  {
   "cell_type": "code",
   "execution_count": 378,
   "metadata": {},
   "outputs": [],
   "source": [
    "def idivdist2_B(Z1, X1, Y1, kwargs):\n",
    "    if len(kwargs) > 1:\n",
    "        epsilon = kwargs[1]\n",
    "    else:\n",
    "        epsilon = 10 ** (-8)\n",
    "        \n",
    "    if kwargs[0] == True:\n",
    "        Z = Z1.T\n",
    "        X = X1.T\n",
    "        Y = Y1.T\n",
    "    else:\n",
    "        Z = Z1\n",
    "        X = X1\n",
    "        Y = Y1\n",
    "        \n",
    "    Y = Y + epsilon\n",
    "    YT = Y.T\n",
    "    d = np.dot(X, YT) - np.dot(Z, da.log(YT))\n",
    "    return d"
   ]
  },
  {
   "cell_type": "code",
   "execution_count": 379,
   "metadata": {},
   "outputs": [],
   "source": [
    "k=70\n",
    "l = 4\n",
    "scheme = 2\n",
    "options = [0.00001, 10, 1, 10 ** (-10)]\n",
    "Z = np.array([[ 24.,  44.,   5.,   6.,  26., 100.,  20.,  95.],\n",
    "       [38.,  14.,  10.,  36.,  56.,  75.,   0.,  26.],\n",
    "       [0.,  54.,  59.,  45.,  87.,  65.,  28.,  36.],\n",
    "       [34.,  45.,  95.,  54.,  78.,  56.,  82.,  63.],\n",
    "       [4.,  63.,  82.,  56.,  36.,  96.,  45.,  34.],\n",
    "       [24.,  25.,   9.,   2.,  28.,  57.,  76.,  23.]])\n",
    "\n",
    "Z = da.from_array(Z, chunks=(2,4))"
   ]
  },
  {
   "cell_type": "code",
   "execution_count": 380,
   "metadata": {},
   "outputs": [],
   "source": [
    "Z = data"
   ]
  },
  {
   "cell_type": "code",
   "execution_count": 400,
   "metadata": {},
   "outputs": [],
   "source": [
    "# % Sort out the options\n",
    "# noptions =size(options,1);\n",
    "\n",
    "noptions = len(options)\n",
    "\n",
    "if noptions < 1:\n",
    "    errobj = 0.00001\n",
    "else:\n",
    "    errobj = options[0]\n",
    "\n",
    "if noptions < 2:\n",
    "    niters = 100\n",
    "else:\n",
    "    niters = options[1]\n",
    "\n",
    "if noptions < 3:\n",
    "    nruns = 20\n",
    "else:\n",
    "    nruns = options[2]\n",
    "\n",
    "if noptions < 4:\n",
    "    epsilon = 10 ** (-8)\n",
    "else:\n",
    "    epsilon = options[3]\n",
    "\n",
    "# % get data matrix size and fixed averages(upload rows)\n",
    "[m, n] = Z.shape\n",
    "Y = Z\n",
    "Em = np.ones((m, 1)) #OK\n",
    "En = np.ones((n, 1)) #OK\n",
    "\n",
    "Gavg = (np.dot(np.dot(Em.T, Y), En)) / (np.dot(np.dot(Em.T, np.ones((m, n))), En)) #OK\n",
    "Ravg = (np.dot(Y, En)+Gavg*epsilon) / (np.dot(np.ones((m, n)), En)+epsilon) #OK\n",
    "Cavg = (np.dot(Em.T, Y)+Gavg*epsilon) / (np.dot(Em.T, np.ones((m, n)))+epsilon) #OK\n",
    "\n",
    "\n",
    "# % ------------------------------------------------------------------------------\n",
    "# % Loop over the runs\n",
    "Rfinalobj = da.zeros((nruns, 1)) #Precision issue\n",
    "RR = {}\n",
    "RC = {}\n",
    "\n",
    "idk = np.identity(k)\n",
    "#idk = da.eye(N=k, chunks=4, k=0) #OK\n",
    "\n",
    "idl = np.identity(l)\n",
    "#idl = da.eye(N=l, chunks=4, k=0) #OK\n",
    "\n",
    "#pr = da.zeros((m, 2))\n",
    "#R = da.zeros((m, k))\n",
    "#pc = da.zeros((n, 2))\n",
    "#C = da.zeros((n, l))\n",
    "\n",
    "m_n_ones = np.ones((m,n))    #To be checked"
   ]
  },
  {
   "cell_type": "code",
   "execution_count": 401,
   "metadata": {},
   "outputs": [
    {
     "name": "stdout",
     "output_type": "stream",
     "text": [
      "run numbers: 0\n"
     ]
    }
   ],
   "source": [
    "r = 0\n",
    "print(\"run numbers: \" + str(r))\n",
    "start_time = time.time()\n",
    "\n",
    "#PR\n",
    "pr = np.zeros((m, 2))\n",
    "np.random.seed(20)\n",
    "rd = np.random.rand(m)\n",
    "\n",
    "def setCol(pr, rd, kwargs):\n",
    "    pr[:,0] = rd\n",
    "    return pr\n",
    "\n",
    "pr = client.submit(setCol, pr, rd, kwargs=[m])\n",
    "\n",
    "def updateFunPR(pr,kwargs):\n",
    "    g = kwargs[0]\n",
    "    m = kwargs[1]\n",
    "    k = kwargs[2]\n",
    "    ind = range(int((g - 1) * np.floor(m / k)), int(g * np.floor(m / k)))\n",
    "    pr[ind,1] = int(g)\n",
    "    return pr\n",
    "\n",
    "for g in range(0, k):\n",
    "    pr = client.submit(updateFunPR,pr,kwargs=[g,m,k])\n",
    "\n",
    "def func3(pr, kwargs):\n",
    "    m = kwargs[0]\n",
    "    k = kwargs[1]\n",
    "    pr[int(k * np.floor(m / k)):m, 1] = k-1\n",
    "    pr = pr[pr[:, 0].argsort()]\n",
    "    return pr\n",
    "\n",
    "pr = client.submit(func3,pr,kwargs=[m,k])\n",
    "\n",
    "#R\n",
    "R = np.zeros((m, k))\n",
    "\n",
    "def func4(R, idk, pr, kwargs):\n",
    "    m = kwargs[0]\n",
    "    for t in range(m):\n",
    "        R[t, :] = idk[int(pr[t,1]), :]\n",
    "    return R\n",
    "\n",
    "pr = client.gather(pr)\n",
    "R = client.submit(func4, R, idk, pr, kwargs=[m])\n",
    "\n",
    "#PC\n",
    "pc = np.zeros((n, 2))\n",
    "np.random.seed(20)\n",
    "rpc = np.random.rand(n)\n",
    "\n",
    "pc = client.submit(setCol, pc, rpc, kwargs=[n])\n",
    "\n",
    "def updateFunPC(pc,kwargs):\n",
    "    h = kwargs[0]\n",
    "    n = kwargs[1]\n",
    "    l = kwargs[2]\n",
    "    ind = range(int((h - 1) * np.floor(n / l) + 1), int(h * np.floor(n / l)))\n",
    "    pc[ind,1] = int(h)\n",
    "    return pc\n",
    "\n",
    "for h in range(0, l):\n",
    "    pc = client.submit(updateFunPC,pc,kwargs=[h,n,l])\n",
    "\n",
    "pc = client.submit(func3,pc,kwargs=[n,l])\n",
    "\n",
    "#C\n",
    "C = np.zeros((n, l))\n",
    "C = client.submit(func4, C, idl, pc, kwargs=[n])\n",
    "\n",
    "e = 2 * errobj\n",
    "old_e = 0\n",
    "s = 1\n",
    "\n",
    "#print(\"---D: %s seconds ---\" % (time.time() - start_time))"
   ]
  },
  {
   "cell_type": "code",
   "execution_count": 402,
   "metadata": {},
   "outputs": [
    {
     "name": "stdout",
     "output_type": "stream",
     "text": [
      "iteration number: 1\n"
     ]
    }
   ],
   "source": [
    "print(\"iteration number: \" + str(s))\n",
    "start_time = time.time()\n",
    "\n",
    "def funCavg(R, Y, C, Gavg, m_n_ones, kwargs):\n",
    "    epsilon = kwargs[0]\n",
    "    Cavg = (np.dot(np.dot(R.T, Y), C) + Gavg*epsilon) / (np.dot(np.dot(R.T, m_n_ones), C) + epsilon)\n",
    "    return Cavg\n",
    "\n",
    "#CoCavg = (da.dot(da.dot(R.T, Y), C) + Gavg*epsilon) / (da.dot(da.dot(R.T, m_n_ones), C) + epsilon)\n",
    "CoCavg = client.submit(funCavg, R, Y, C, Gavg, m_n_ones, kwargs=[epsilon])\n",
    "#RCavg = (da.dot(da.dot(R.T, Y), En) + Gavg*epsilon) / (da.dot(da.dot(R.T, m_n_ones), En) + epsilon)\n",
    "RCavg = client.submit(funCavg, R, Y, En, Gavg, m_n_ones, kwargs=[epsilon])\n",
    "#CCavg = (da.dot(da.dot(Em.T, Y), C) + Gavg*epsilon) / (da.dot(da.dot(Em.T, m_n_ones), C) + epsilon)\n",
    "CCavg = client.submit(funCavg, Em, Y, C, Gavg, m_n_ones, kwargs=[epsilon])\n",
    "\n",
    "#RC_Cavg = (da.dot(R.T, Y) + Gavg*epsilon) / (da.dot(R.T, m_n_ones) + epsilon)\n",
    "def funRC_Cavg(R, Y, Gavg, m_n_ones, kwargs):\n",
    "    epsilon = kwargs[0]\n",
    "    Cavg = (np.dot(R.T, Y) + Gavg*epsilon) / (np.dot(R.T, m_n_ones) + epsilon)\n",
    "    return Cavg\n",
    "\n",
    "RC_Cavg = client.submit(funRC_Cavg, R, Y, Gavg, m_n_ones, kwargs=[epsilon])\n",
    "\n",
    "#CC_Ravg = (da.dot(Y, C) + Gavg*epsilon) / (da.dot(m_n_ones, C) + epsilon)\n",
    "def funCC_Ravg(Y, C, Gavg, m_n_ones, kwargs):\n",
    "    epsilon = kwargs[0]\n",
    "    Cavg = (np.dot(Y, C) + Gavg*epsilon) / (np.dot(m_n_ones, C) + epsilon)\n",
    "    return Cavg\n",
    "\n",
    "\n",
    "CC_Ravg = client.submit(funCC_Ravg, Y, C, Gavg, m_n_ones, kwargs=[epsilon])\n",
    "\n",
    "def mult(x, y, kwargs):\n",
    "    if kwargs[0] == True:\n",
    "        res = np.dot(x,y.T)\n",
    "    else:\n",
    "        res = np.dot(x,y)\n",
    "    return res\n",
    "\n",
    "Zrowc = m_n_ones\n",
    "#Zrowv = da.dot(CoCavg, C.T)\n",
    "Zrowv = client.submit(mult, CoCavg, C, kwargs=[True])\n",
    "\n",
    "#d2 = idivdist2(Y, Zrowc, Zrowv, [])\n",
    "d2 = client.submit(idivdist2_B, Y, Zrowc, Zrowv, kwargs=[False])\n",
    "\n",
    "#index = da.argmin(d2, axis=1)\n",
    "#R = idk[index, :]\n",
    "def funcArgmin(d2, idk):\n",
    "    index = np.argmin(d2, axis=1)\n",
    "    return idk[index, :]\n",
    "\n",
    "R = client.submit(funcArgmin, d2, idk)\n",
    "\n",
    "#start_time = time.time()\n",
    "Zcolc = m_n_ones\n",
    "#Zcolv = da.dot(R, CoCavg)\n",
    "Zcolv = client.submit(mult, R, CoCavg, kwargs=[False])\n",
    "\n",
    "#d2 = idivdist2(Y.T, Zcolc.T, Zcolv.T, [])\n",
    "d2 = client.submit(idivdist2_B, Y, Zcolc, Zcolv, kwargs=[True])\n",
    "\n",
    "#minvals = da.min(d2, axis=1)\n",
    "def funcMin(d2):\n",
    "    return np.min(d2, axis=1)\n",
    "\n",
    "minvals = client.submit(funcMin, d2)\n",
    "\n",
    "#index = da.argmin(d2, axis=1)\n",
    "#C = idl[index, :]\n",
    "C = client.submit(funcArgmin, d2, idl)\n",
    "\n",
    "old_e = e\n",
    "#e = sum(da.power(minvals, 1)).compute() # power 1 divergence, power 2 euclidean\n",
    "def funcSum(minvals):\n",
    "    return sum(np.power(minvals, 1))\n",
    "    \n",
    "e = client.submit(funcSum, minvals)\n",
    "e = client.gather(e)\n",
    "\n",
    "s = s + 1\n",
    "print(\"---8: %s seconds ---\" % (time.time() - start_time))\n",
    "#print(\"e: \" + str(e))\n",
    "#print(\"old_e: \" + str(old_e))"
   ]
  },
  {
   "cell_type": "code",
   "execution_count": 416,
   "metadata": {},
   "outputs": [],
   "source": [
    "#Rfinalobj[r] = e\n",
    "Rfinalobj = Rfinalobj.map_blocks(dask_array_mutation_1D_val, dtype='int64', kwargs=[r, e])\n",
    "\n",
    "RR[r] = R\n",
    "RC[r] = C"
   ]
  },
  {
   "cell_type": "code",
   "execution_count": 423,
   "metadata": {},
   "outputs": [],
   "source": [
    "val = da.min(Rfinalobj)\n",
    "ind = da.argmin(Rfinalobj)\n",
    "R1 = RR[ind.compute()]\n",
    "C1 = RC[ind.compute()]"
   ]
  },
  {
   "cell_type": "code",
   "execution_count": 426,
   "metadata": {},
   "outputs": [
    {
     "name": "stdout",
     "output_type": "stream",
     "text": [
      "(210, 147)\n",
      "[ 0  1  2  3  7 11 19 21 22 30 35 36 37 38 39 41 42 43 47 48 49 50 51 52\n",
      " 53 54 58 59 61 63 64 65 67 68 69]\n"
     ]
    },
    {
     "data": {
      "image/png": "[encoded data removed]",
      "text/plain": [
       "<Figure size 432x288 with 2 Axes>"
      ]
     },
     "metadata": {
      "needs_background": "light"
     },
     "output_type": "display_data"
    }
   ],
   "source": [
    "R_clusters = np.where(R1==1)[1]\n",
    "R_clusters = R_clusters.reshape(ySize,xSize)\n",
    "print(R_clusters.shape)\n",
    "print(np.unique(R_clusters))\n",
    "empty_string_labes = ['']\n",
    "fig1 = plt.figure(1)\n",
    "ax1 = fig1.add_subplot(1,1,1)\n",
    "img = plt.imshow(R_clusters)\n",
    "plt.title('spatial clusters')\n",
    "ax1.set_yticklabels(empty_string_labes)\n",
    "ax1.set_xticklabels(empty_string_labes)\n",
    "plt.colorbar(orientation='horizontal')\n",
    "ax1.grid(True)\n",
    "plt.clim(float(0),float(69))"
   ]
  },
  {
   "cell_type": "code",
   "execution_count": 55,
   "metadata": {},
   "outputs": [
    {
     "name": "stdout",
     "output_type": "stream",
     "text": [
      "CoClustering results:\n",
      "Val:  -125302543.91075641\n",
      "Row matrix:  [[0. 0. 0. ... 0. 0. 0.]\n",
      " [0. 0. 0. ... 0. 0. 0.]\n",
      " [0. 0. 0. ... 0. 0. 0.]\n",
      " ...\n",
      " [1. 0. 0. ... 0. 0. 0.]\n",
      " [1. 0. 0. ... 0. 0. 0.]\n",
      " [1. 0. 0. ... 0. 0. 0.]]\n",
      "Column matrix:  [[0. 1. 0. 0.]\n",
      " [0. 0. 1. 0.]\n",
      " [0. 0. 0. 1.]\n",
      " [0. 0. 1. 0.]\n",
      " [1. 0. 0. 0.]\n",
      " [1. 0. 0. 0.]\n",
      " [0. 0. 0. 1.]\n",
      " [0. 1. 0. 0.]\n",
      " [0. 1. 0. 0.]\n",
      " [0. 0. 1. 0.]\n",
      " [0. 0. 1. 0.]\n",
      " [0. 0. 1. 0.]\n",
      " [1. 0. 0. 0.]\n",
      " [0. 1. 0. 0.]\n",
      " [1. 0. 0. 0.]\n",
      " [1. 0. 0. 0.]\n",
      " [0. 0. 1. 0.]\n",
      " [0. 0. 1. 0.]\n",
      " [1. 0. 0. 0.]\n",
      " [1. 0. 0. 0.]\n",
      " [0. 0. 0. 1.]\n",
      " [1. 0. 0. 0.]\n",
      " [0. 0. 0. 1.]\n",
      " [0. 0. 1. 0.]\n",
      " [1. 0. 0. 0.]\n",
      " [1. 0. 0. 0.]]\n"
     ]
    }
   ],
   "source": [
    "print('CoClustering results:')\n",
    "print('Val: ', val.compute())\n",
    "print('Row matrix: ', R1.compute())\n",
    "print('Column matrix: ', C1.compute())"
   ]
  },
  {
   "cell_type": "markdown",
   "metadata": {},
   "source": [
    "## Testing area"
   ]
  },
  {
   "cell_type": "markdown",
   "metadata": {},
   "source": [
    "### 1D"
   ]
  },
  {
   "cell_type": "code",
   "execution_count": 206,
   "metadata": {},
   "outputs": [
    {
     "data": {
      "text/plain": [
       "array([10,  2,  3,  4,  5,  6,  7,  8])"
      ]
     },
     "execution_count": 206,
     "metadata": {},
     "output_type": "execute_result"
    }
   ],
   "source": [
    "h = np.array([10,2,3,4,5,6,7,8])\n",
    "e = da.asarray(h)\n",
    "e.compute()"
   ]
  },
  {
   "cell_type": "code",
   "execution_count": 217,
   "metadata": {},
   "outputs": [
    {
     "data": {
      "text/plain": [
       "array([ 10, 100,   3,   4,   5,   6,   7,   8])"
      ]
     },
     "execution_count": 217,
     "metadata": {},
     "output_type": "execute_result"
    }
   ],
   "source": [
    "def dask_array_mutation_1D_val(block, block_info, kwargs):\n",
    "    #Get overlap slice\n",
    "    block_row = block_info[0][\"array-location\"][0]\n",
    "    input_row = kwargs[0]\n",
    "    \n",
    "    if (kwargs[0] is not None):\n",
    "        if (isinstance(kwargs[0],tuple)):\n",
    "            if (input_row[0] >= block_row[1]):\n",
    "                return block\n",
    "            if (input_row[1] <= block_row[0]):\n",
    "                return block\n",
    "            row_start = 0 if ((input_row[0] - block_row[0]) <= 0) else (input_row[0] - block_row[0])\n",
    "            row_stop = ((input_row[1]-block_row[0]) if ((input_row[1] - block_row[1]) < 0) else (block_row[1] - block_row[0]))\n",
    "        else:\n",
    "            if (input_row >= block_row[1]):\n",
    "                return block\n",
    "            if (input_row < block_row[0]):\n",
    "                return block\n",
    "            row_start = input_row - block_row[0]\n",
    "    \n",
    "    if (kwargs[0] is not None):   \n",
    "        block[slice(row_start,row_stop) if isinstance(kwargs[0],tuple) else row_start] = kwargs[1]\n",
    "    else:\n",
    "        block[:] = kwargs[1]\n",
    "        \n",
    "    return block\n",
    "\n",
    "e.map_blocks(dask_array_mutation_1D_val, dtype='int64', kwargs=[1, 100]).compute()"
   ]
  },
  {
   "cell_type": "code",
   "execution_count": null,
   "metadata": {},
   "outputs": [],
   "source": []
  },
  {
   "cell_type": "code",
   "execution_count": null,
   "metadata": {},
   "outputs": [],
   "source": []
  },
  {
   "cell_type": "code",
   "execution_count": null,
   "metadata": {},
   "outputs": [],
   "source": []
  },
  {
   "cell_type": "markdown",
   "metadata": {},
   "source": [
    "### 2D"
   ]
  },
  {
   "cell_type": "code",
   "execution_count": 83,
   "metadata": {},
   "outputs": [],
   "source": [
    "h = np.array([[10,2,3,4,5,6,7,8],[14,5,6,6,7,8,9,10],[7,8,9,9,10,11,12,13],[1,11,12,13,14,15,16,17]])\n",
    "\n",
    "d = da.asarray(h).rechunk(2,2)\n",
    "e = da.asarray(h).rechunk(2,2)\n",
    "e.compute()\n",
    "f = e"
   ]
  },
  {
   "cell_type": "code",
   "execution_count": 84,
   "metadata": {},
   "outputs": [
    {
     "data": {
      "text/plain": [
       "array([[10,  2,  3,  4,  5,  6,  7,  8],\n",
       "       [ 8,  5,  6,  3,  4,  0,  7,  1],\n",
       "       [ 7,  8,  9,  9, 10, 11, 12, 13],\n",
       "       [ 1, 11, 12, 13, 14, 15, 16, 17]])"
      ]
     },
     "execution_count": 84,
     "metadata": {},
     "output_type": "execute_result"
    }
   ],
   "source": [
    "def dask_array_mutation_2D_val(block, block_info, kwargs):\n",
    "    #Get overlap slice\n",
    "    block_row = block_info[0][\"array-location\"][0]\n",
    "    block_col = block_info[0][\"array-location\"][1]\n",
    "    input_row = kwargs[0]\n",
    "    input_col = kwargs[1]\n",
    "    \n",
    "    #To read properly the values\n",
    "    row_val_start = 0\n",
    "    row_val_stop = 1\n",
    "    col_val_start = 0\n",
    "    col_val_stop = 1\n",
    "    \n",
    "    if (isinstance(kwargs[2], np.ndarray) and len(kwargs[2].shape) == 1):\n",
    "        if (kwargs[0] is None or isinstance(kwargs[0],tuple)):\n",
    "            row_val_len = kwargs[2].shape[0] if isinstance(kwargs[2], np.ndarray) else 1\n",
    "            col_val_len = 1\n",
    "        elif (kwargs[1] is None or isinstance(kwargs[1],tuple)):\n",
    "            row_val_len = 1\n",
    "            col_val_len = kwargs[2].shape[0] if isinstance(kwargs[2], np.ndarray) else 1\n",
    "    elif (isinstance(kwargs[2], np.ndarray) and len(kwargs[2].shape) == 2):\n",
    "        row_val_len = kwargs[2].shape[0] if isinstance(kwargs[2], np.ndarray) else 1\n",
    "        col_val_len = kwargs[2].shape[1] if isinstance(kwargs[2], np.ndarray) else 1\n",
    "    else:\n",
    "        row_val_len = 1\n",
    "        col_val_len = 1\n",
    "    \n",
    "    if (kwargs[0] is not None):\n",
    "        if (isinstance(kwargs[0],tuple)):\n",
    "            if (input_row[0] >= block_row[1]):\n",
    "                return block\n",
    "            if (input_row[1] <= block_row[0]):\n",
    "                return block\n",
    "            (row_start, row_val_start) = (0, block_row[0] - input_row[0])  if ((input_row[0] - block_row[0]) <= 0) else (input_row[0] - block_row[0], 0)\n",
    "            (row_stop, row_val_stop) = ((input_row[1]-block_row[0], row_val_len) if ((input_row[1] - block_row[1]) < 0) else (block_row[1] - block_row[0], row_val_len - ((input_row[1] - block_row[1]))))\n",
    "        else:\n",
    "            if (input_row >= block_row[1]):\n",
    "                return block\n",
    "            if (input_row < block_row[0]):\n",
    "                return block\n",
    "            row_start = input_row - block_row[0]\n",
    "    else:\n",
    "        row_val_start = block_row[0]\n",
    "        row_val_stop = block_row[1]\n",
    "    \n",
    "    if (kwargs[1] is not None):\n",
    "        if (isinstance(kwargs[1],tuple)):\n",
    "            if (input_col[0] >= block_col[1]):\n",
    "                return block\n",
    "            if (input_col[1] <= block_col[0]):\n",
    "                return block\n",
    "            (col_start, col_val_start) = (0, block_col[0] - input_col[0])  if ((input_col[0] - block_col[0]) <= 0) else (input_col[0] - block_col[0], 0)\n",
    "            (col_stop, col_val_stop) = ((input_col[1] - block_col[0]), col_val_len) if ((input_col[1] - block_col[1]) < 0) else (block_col[1] - block_col[0], col_val_len - ((input_col[1] - block_col[1])))                  \n",
    "        else:\n",
    "            if (input_col >= block_col[1]):\n",
    "                return block\n",
    "            if (input_col < block_col[0]):\n",
    "                return block\n",
    "            col_start = input_col - block_col[0]\n",
    "    else:\n",
    "        col_val_start = block_col[0]\n",
    "        col_val_stop = block_col[1]\n",
    "    \n",
    "    if (isinstance(kwargs[2], np.ndarray) and len(kwargs[2].shape) == 1):\n",
    "        if (kwargs[0] is None or isinstance(kwargs[0],tuple)):\n",
    "            val = kwargs[2][row_val_start:row_val_stop]\n",
    "        elif (kwargs[1] is None or isinstance(kwargs[1],tuple)):\n",
    "            val = kwargs[2][col_val_start:col_val_stop]\n",
    "    elif (isinstance(kwargs[2], np.ndarray) and len(kwargs[2].shape) == 2):\n",
    "        val = kwargs[2][row_val_start:row_val_stop, col_val_start:col_val_stop]\n",
    "    else:\n",
    "        val = kwargs[2]\n",
    "    \n",
    "    if (kwargs[0] is not None and kwargs[1] is not None):   \n",
    "        block[slice(row_start,row_stop) if isinstance(kwargs[0],tuple) else row_start, slice(col_start,col_stop) if isinstance(kwargs[1],tuple) else col_start] = val\n",
    "    elif (kwargs[0] is None and kwargs[1] is not None):   \n",
    "        block[:, slice(col_start,col_stop) if isinstance(kwargs[1],tuple) else col_start] = val\n",
    "    elif (kwargs[0] is not None and kwargs[1] is None):   \n",
    "        block[slice(row_start,row_stop) if isinstance(kwargs[0],tuple) else row_start,:] = val\n",
    "    elif (kwargs[0] is None and kwargs[1] is None):   \n",
    "        block[:,:] = val\n",
    "        \n",
    "    return block\n",
    "\n",
    "e.map_blocks(dask_array_mutation_2D_val, dtype='int64', kwargs=[ 1, None, np.random.randint(10, size=(1, 8))]).compute()"
   ]
  },
  {
   "cell_type": "code",
   "execution_count": 86,
   "metadata": {},
   "outputs": [
    {
     "data": {
      "text/plain": [
       "array([[10,  2,  3,  4,  5,  6,  7,  8],\n",
       "       [14,  5,  6,  6,  7,  8,  9, 10],\n",
       "       [ 7,  8,  9,  9, 10, 11, 12, 13],\n",
       "       [ 1, 11, 12, 13, 14, 15, 16, 17]])"
      ]
     },
     "execution_count": 86,
     "metadata": {},
     "output_type": "execute_result"
    }
   ],
   "source": [
    "f.compute()"
   ]
  },
  {
   "cell_type": "code",
   "execution_count": null,
   "metadata": {},
   "outputs": [],
   "source": []
  },
  {
   "cell_type": "code",
   "execution_count": 187,
   "metadata": {},
   "outputs": [
    {
     "name": "stdout",
     "output_type": "stream",
     "text": [
      "It is 1D\n"
     ]
    }
   ],
   "source": [
    "val_shape = np.array(range(4,8)).shape\n",
    "if len(val_shape) == 1:\n",
    "    print(\"It is 1D\")"
   ]
  },
  {
   "cell_type": "code",
   "execution_count": 181,
   "metadata": {},
   "outputs": [
    {
     "data": {
      "text/plain": [
       "array([[2, 1, 7, 5, 4, 3, 3, 1],\n",
       "       [8, 4, 0, 5, 7, 8, 5, 4],\n",
       "       [7, 9, 9, 1, 0, 7, 2, 2],\n",
       "       [2, 1, 0, 9, 2, 3, 9, 0]])"
      ]
     },
     "execution_count": 181,
     "metadata": {},
     "output_type": "execute_result"
    }
   ],
   "source": [
    "res = np.random.randint(10, size=(4, 8))\n",
    "res"
   ]
  },
  {
   "cell_type": "code",
   "execution_count": 178,
   "metadata": {},
   "outputs": [
    {
     "data": {
      "text/plain": [
       "array([], dtype=int64)"
      ]
     },
     "execution_count": 178,
     "metadata": {},
     "output_type": "execute_result"
    }
   ],
   "source": [
    "h = np.array([[10,2,3,4,5,6,7,8],[14,5,6,6,7,8,9,10],[7,8,9,9,10,11,12,13],[1,11,12,13,14,15,16,17]])\n",
    "row_range = h[slice(-1,-1),1]\n",
    "row_range"
   ]
  },
  {
   "cell_type": "code",
   "execution_count": 21,
   "metadata": {},
   "outputs": [
    {
     "data": {
      "text/plain": [
       "array([[100, 100, 100, 100, 100, 100, 100, 100],\n",
       "       [100, 100, 100, 100, 100, 100, 100, 100],\n",
       "       [100, 100, 100, 100, 100, 100, 100, 100],\n",
       "       [100, 100, 100, 100, 100, 100, 100, 100]])"
      ]
     },
     "execution_count": 21,
     "metadata": {},
     "output_type": "execute_result"
    }
   ],
   "source": [
    "h[:, :]=100\n",
    "h"
   ]
  },
  {
   "cell_type": "markdown",
   "metadata": {},
   "source": [
    "## List mode"
   ]
  },
  {
   "cell_type": "code",
   "execution_count": 13,
   "metadata": {},
   "outputs": [
    {
     "data": {
      "text/plain": [
       "array([[10,  2,  3,  4,  5,  6,  7,  8],\n",
       "       [14,  5,  6,  6,  7,  8,  9, 10],\n",
       "       [ 7,  8,  9,  9, 10, 11, 12, 13],\n",
       "       [ 1, 11, 12, 13, 14, 15, 16, 17]])"
      ]
     },
     "execution_count": 13,
     "metadata": {},
     "output_type": "execute_result"
    }
   ],
   "source": [
    "h = np.array([[10,2,3,4,5,6,7,8],[14,5,6,6,7,8,9,10],[7,8,9,9,10,11,12,13],[1,11,12,13,14,15,16,17]])\n",
    "\n",
    "d = da.asarray(h).rechunk(2,2)\n",
    "e = da.asarray(h).rechunk(2,2)\n",
    "e.compute()"
   ]
  },
  {
   "cell_type": "code",
   "execution_count": 32,
   "metadata": {},
   "outputs": [
    {
     "data": {
      "text/plain": [
       "array([[ 10,   2,   3,   4,   5,   6,   7,   8],\n",
       "       [ 14, 100,   6, 300,   7,   8,   9,  10],\n",
       "       [  7, 100,   9, 300,  10,  11,  12,  13],\n",
       "       [  1,  11,  12,  13,  14,  15,  16,  17]])"
      ]
     },
     "execution_count": 32,
     "metadata": {},
     "output_type": "execute_result"
    }
   ],
   "source": [
    "def dask_array_mutation_2D_Series_val(block, block_info, kwargs):\n",
    "    #Get overlap slice\n",
    "    block_row = block_info[0][\"array-location\"][0]\n",
    "    block_col = block_info[0][\"array-location\"][1]\n",
    "    list_ranges = kwargs[0]\n",
    "    list_vals = kwargs[1]\n",
    "    \n",
    "    \n",
    "    for r, val in zip(list_ranges,list_vals):  \n",
    "        input_row = r[0]\n",
    "        input_col = r[1]\n",
    "    \n",
    "        if (input_row is not None):\n",
    "            if (isinstance(input_row,tuple)):\n",
    "                if (input_row[0] >= block_row[1]):\n",
    "                    continue\n",
    "                if (input_row[1] <= block_row[0]):\n",
    "                    continue\n",
    "                row_start = 0 if ((input_row[0] - block_row[0]) <= 0) else (input_row[0] - block_row[0])\n",
    "                row_stop = ((input_row[1]-block_row[0]) if ((input_row[1] - block_row[1]) < 0) else (block_row[1] - block_row[0]))\n",
    "            else:\n",
    "                if (input_row >= block_row[1]):\n",
    "                    continue\n",
    "                if (input_row < block_row[0]):\n",
    "                    continue\n",
    "                row_start = input_row - block_row[0]\n",
    "\n",
    "        if (input_col is not None):\n",
    "            if (isinstance(input_col,tuple)):\n",
    "                if (input_col[0] >= block_col[1]):\n",
    "                    continue\n",
    "                if (input_col[1] <= block_col[0]):\n",
    "                    continue\n",
    "                col_start = 0 if ((input_col[0] - block_col[0]) <= 0) else (input_col[0] - block_col[0])\n",
    "                col_stop = (input_col[1] - block_col[0]) if ((input_col[1] - block_col[1]) < 0) else (block_col[1] - block_col[0])\n",
    "            else:\n",
    "                if (input_col >= block_col[1]):\n",
    "                    continue\n",
    "                if (input_col < block_col[0]):\n",
    "                    continue\n",
    "                col_start = input_col - block_col[0]\n",
    "    \n",
    "        if (input_row is not None and input_col is not None):   \n",
    "            block[slice(row_start,row_stop) if isinstance(input_row,tuple) else row_start, slice(col_start,col_stop) if isinstance(kwargs[1],tuple) else col_start] = val\n",
    "        elif (input_row is None and input_col is not None):   \n",
    "            block[:, slice(col_start,col_stop) if isinstance(input_col,tuple) else col_start] = val\n",
    "        elif (input_row is not None and input_col is None):   \n",
    "            block[slice(row_start,row_stop) if isinstance(input_col,tuple) else row_start,:] = val\n",
    "        elif (input_row is None and input_col is None):   \n",
    "            block[:,:] = val\n",
    "        \n",
    "    return block\n",
    "\n",
    "e.map_blocks(dask_array_mutation_2D_Series_val, dtype='int64', kwargs=[[[(1,3), 1],[(1,3),3]], [100, 300]]).compute()"
   ]
  },
  {
   "cell_type": "code",
   "execution_count": 21,
   "metadata": {},
   "outputs": [
    {
     "name": "stdout",
     "output_type": "stream",
     "text": [
      "0\n"
     ]
    }
   ],
   "source": [
    "kwargs=[[[0, 0]], [100]]\n",
    "list_ranges = kwargs[0]\n",
    "for r in list_ranges:\n",
    "    print(r[1])"
   ]
  },
  {
   "cell_type": "code",
   "execution_count": 9,
   "metadata": {},
   "outputs": [
    {
     "name": "stdout",
     "output_type": "stream",
     "text": [
      "Yes it is.\n"
     ]
    }
   ],
   "source": [
    "h = [[10,2,3,4,5,6,7,8],[14,5,6,6,7,8,9,10],[7,8,9,9,10,11,12,13],[1,11,12,13,14,15,16,17]]\n",
    "\n",
    "if (isinstance(h, list)):\n",
    "    print(\"Yes it is.\")\n",
    "else:\n",
    "    print(\"It is not\")"
   ]
  },
  {
   "cell_type": "code",
   "execution_count": null,
   "metadata": {},
   "outputs": [],
   "source": []
  }
 ],
 "metadata": {
  "kernelspec": {
   "display_name": "Python 3",
   "language": "python",
   "name": "python3"
  },
  "language_info": {
   "codemirror_mode": {
    "name": "ipython",
    "version": 3
   },
   "file_extension": ".py",
   "mimetype": "text/x-python",
   "name": "python",
   "nbconvert_exporter": "python",
   "pygments_lexer": "ipython3",
   "version": "3.7.6"
  }
 },
 "nbformat": 4,
 "nbformat_minor": 2
}
